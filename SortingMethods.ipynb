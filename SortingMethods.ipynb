{
  "cells": [
    {
      "cell_type": "markdown",
      "metadata": {
        "id": "fIlt7-WKewT7"
      },
      "source": [
        "# Sorting Methods\n",
        "\n",
        "This notebook discusses different sorting methods used in algorithms. The sorting will be done on arrays/lists."
      ]
    },
    {
      "cell_type": "markdown",
      "metadata": {
        "id": "L1HZzHl2fBDx"
      },
      "source": [
        "### Bubble Sort\n",
        "\n",
        "Bubble Sort is the simplest sorting algorithm that works by repeatedly swapping the adjacent elements if they are in the wrong order. This algorithm is not suitable for large data sets as its average and worst-case time complexity are quite high.\n",
        "\n",
        "We sort the array using multiple passes. After the first pass, the maximum element goes to end (its correct position). Same way, after second pass, the second largest element goes to second last position and so on.\n",
        "\n",
        "Time Complexity: O(n^2)\n",
        "\n",
        "Auxiliary Space: O(1)"
      ]
    },
    {
      "cell_type": "code",
      "execution_count": 1,
      "metadata": {
        "colab": {
          "base_uri": "https://localhost:8080/"
        },
        "id": "TUgfOfJbeq9f",
        "outputId": "769aaa84-2c99-4847-f205-7f6beed2cfff"
      },
      "outputs": [
        {
          "data": {
            "text/plain": [
              "[11, 12, 22, 25, 34, 64, 90]"
            ]
          },
          "execution_count": 1,
          "metadata": {},
          "output_type": "execute_result"
        }
      ],
      "source": [
        "def bubble_sort(nums):\n",
        "    n = len(nums)\n",
        "    for i in range(n):\n",
        "        swapped = False\n",
        "        for j in range(n - i - 1):\n",
        "            if nums[j] > nums[j + 1]:\n",
        "                nums[j], nums[j + 1] = nums[j + 1], nums[j]\n",
        "                swapped = True\n",
        "        if not swapped:\n",
        "            break\n",
        "\n",
        "nums = [64, 34, 25, 12, 22, 11, 90]\n",
        "bubble_sort(nums)\n",
        "nums"
      ]
    },
    {
      "cell_type": "markdown",
      "metadata": {
        "id": "V3HU0oJFhOVm"
      },
      "source": [
        "### Selection Sort\n",
        "\n",
        "Selection Sort is a comparison-based sorting algorithm. It sorts an array by repeatedly selecting the smallest (or largest) element from the unsorted portion and swapping it with the first unsorted element. This process continues until the entire array is sorted.\n",
        "\n",
        "\n",
        "**Time Complexity**\n",
        "\n",
        "O(n^2), as there are two nested loops:\n",
        "\n",
        "* One loop to select an element of Array one by one = O(n)\n",
        "* Another loop to compare that element with every other Array element = O(n)\n",
        "* Therefore overall complexity = O(n) * O(n) = O(n*n) = O(n^2)\n",
        "\n",
        "**Auxiliary Space**\n",
        "\n",
        "O(1) as the only extra memory used is for temporary variables."
      ]
    },
    {
      "cell_type": "code",
      "execution_count": 2,
      "metadata": {
        "colab": {
          "base_uri": "https://localhost:8080/"
        },
        "id": "6QfD1Eokh03E",
        "outputId": "8b978d57-c5cd-4dbe-9e5b-aee295096789"
      },
      "outputs": [
        {
          "data": {
            "text/plain": [
              "[11, 12, 22, 25, 34, 64, 90]"
            ]
          },
          "execution_count": 2,
          "metadata": {},
          "output_type": "execute_result"
        }
      ],
      "source": [
        "def selection_sort(nums):\n",
        "    n = len(nums)\n",
        "    for i in range(n - 1):\n",
        "        min_index = i\n",
        "        for j in range(i + 1, n):\n",
        "            if nums[j] < nums[min_index]:\n",
        "                min_index = j\n",
        "        if min_index != i:\n",
        "            nums[min_index], nums[i] = nums[i], nums[min_index]\n",
        "\n",
        "nums = [64, 34, 25, 12, 22, 11, 90]\n",
        "selection_sort(nums)\n",
        "nums"
      ]
    },
    {
      "cell_type": "markdown",
      "metadata": {
        "id": "iFUxGgnemi64"
      },
      "source": [
        "### Insertion Sort\n",
        "\n",
        "Insertion sort is a simple sorting algorithm that works by iteratively inserting each element of an unsorted list into its correct position in a sorted portion of the list. It is like sorting playing cards in your hands. You split the cards into two groups: the sorted cards and the unsorted cards. Then, you pick a card from the unsorted group and put it in the right place in the sorted group.\n",
        "\n",
        "1. We start with the second element of the array as the first element is assumed to be sorted.\n",
        "2. Compare the second element with the first element if the second element is smaller then swap them.\n",
        "3. Move to the third element, compare it with the first two elements, and put it in its correct position\n",
        "4. Repeat until the entire array is sorted.\n",
        "\n",
        "**Time Complexity**\n",
        "\n",
        "Best case: O(n), If the list is already sorted, where n is the number of elements in the list.\n",
        "\n",
        "Average case: O(n^2), If the list is randomly ordered\n",
        "\n",
        "Worst case: O(n^2), If the list is in reverse order\n",
        "Space Complexity\n",
        "\n",
        "**Auxiliary Space**\n",
        "\n",
        "O(1), Insertion sort requires O(1) additional space, making it a space-efficient sorting algorithm."
      ]
    },
    {
      "cell_type": "code",
      "execution_count": 3,
      "metadata": {
        "colab": {
          "base_uri": "https://localhost:8080/"
        },
        "id": "FmbZTIOAiokf",
        "outputId": "cf0691e6-2068-42d6-b934-21370bf1aefa"
      },
      "outputs": [
        {
          "data": {
            "text/plain": [
              "[11, 12, 22, 25, 34, 64, 90]"
            ]
          },
          "execution_count": 3,
          "metadata": {},
          "output_type": "execute_result"
        }
      ],
      "source": [
        "def insertion_sort(nums):\n",
        "    n = len(nums)\n",
        "    for i in range(1, n):\n",
        "        key = nums[i]\n",
        "        j = i - 1\n",
        "        while j >= 0 and nums[j] > key:\n",
        "            nums[j + 1] = nums[j]\n",
        "            j -= 1\n",
        "        nums[j + 1] = key\n",
        "\n",
        "nums = [64, 34, 25, 12, 22, 11, 90]\n",
        "insertion_sort(nums)\n",
        "nums"
      ]
    },
    {
      "cell_type": "markdown",
      "metadata": {
        "id": "x6Icf8j3o7Wk"
      },
      "source": [
        "### Merge Sort\n",
        "\n",
        "Merge sort is a popular sorting algorithm known for its efficiency and stability. It follows the divide-and-conquer approach. It works by recursively dividing the input array into two halves, recursively sorting the two halves and finally merging them back together to obtain the sorted array.\n",
        "\n",
        "**Time Complexity**\n",
        "\n",
        "* Best Case: O(n log n), When the array is already sorted or nearly sorted.\n",
        "* Average Case: O(n log n), When the array is randomly ordered.\n",
        "* Worst Case: O(n log n), When the array is sorted in reverse order.\n",
        "\n",
        "**Auxiliary Space**\n",
        "\n",
        "O(n), Additional space is required for the temporary array used during merging."
      ]
    },
    {
      "cell_type": "code",
      "execution_count": 4,
      "metadata": {
        "colab": {
          "base_uri": "https://localhost:8080/"
        },
        "id": "kmlr2clmo2Bw",
        "outputId": "860e1055-3cf3-4571-d5e2-98f3e31d1785"
      },
      "outputs": [
        {
          "data": {
            "text/plain": [
              "[11, 12, 22, 25, 34, 64, 90]"
            ]
          },
          "execution_count": 4,
          "metadata": {},
          "output_type": "execute_result"
        }
      ],
      "source": [
        "def merge(nums, start, mid, end):\n",
        "    temp = []\n",
        "    left, right = start, mid + 1\n",
        "\n",
        "    while left <= mid and right <= end:\n",
        "        if nums[left] <= nums[right]:\n",
        "            temp.append(nums[left])\n",
        "            left += 1\n",
        "        else:\n",
        "            temp.append(nums[right])\n",
        "            right += 1\n",
        "\n",
        "    if left <= mid:\n",
        "        temp.extend(nums[left:mid + 1])\n",
        "\n",
        "    if right <= end:\n",
        "        temp.extend(nums[right:end + 1])\n",
        "\n",
        "    nums[start:end + 1] = temp[:]\n",
        "\n",
        "def merge_sort(nums, start=0, end=None):\n",
        "    if end is None:\n",
        "        end = len(nums) - 1\n",
        "\n",
        "    if start < end:\n",
        "        mid = (start + end) // 2\n",
        "        merge_sort(nums, start, mid)\n",
        "        merge_sort(nums, mid + 1, end)\n",
        "        merge(nums, start, mid, end)\n",
        "\n",
        "nums = [64, 34, 25, 12, 22, 11, 90]\n",
        "merge_sort(nums)\n",
        "nums"
      ]
    },
    {
      "cell_type": "markdown",
      "metadata": {
        "id": "ipduGpI252_g"
      },
      "source": [
        "### Quick Sort\n",
        "\n",
        "QuickSort is a sorting algorithm based on the Divide and Conquer that picks an element as a pivot and partitions the given array around the picked pivot by placing the pivot in its correct position in the sorted array.\n",
        "\n",
        "It works on the principle of divide and conquer, breaking down the problem into smaller sub-problems.\n",
        "\n",
        "There are mainly three steps in the algorithm:\n",
        "\n",
        "1. Choose a Pivot: Select an element from the array as the pivot. The choice of pivot can vary (e.g., first element, last element, random element, or median).\n",
        "2. Partition the Array: Rearrange the array around the pivot. After partitioning, all elements smaller than the pivot will be on its left, and all elements greater than the pivot will be on its right. The pivot is then in its correct position, and we obtain the index of the pivot.\n",
        "3. Recursively Call: Recursively apply the same process to the two partitioned sub-arrays (left and right of the pivot).\n",
        "4. Base Case: The recursion stops when there is only one element left in the sub-array, as a single element is already sorted.\n",
        "\n",
        "There are many different choices for picking pivots.\n",
        "\n",
        "1. Always pick the first (or last) element as a pivot. The below implementation picks the last element as pivot. The problem with this approach is it ends up in the worst case when array is already sorted.\n",
        "2. Pick a random element as a pivot. This is a preferred approach because it does not have a pattern for which the worst case happens.\n",
        "3. Pick the median element is pivot. This is an ideal approach in terms of time complexity as we can find median in linear time and the partition function will always divide the input array into two halves. But it takes more time on average as median finding has high constants.\n",
        "\n",
        "**Partition Algorithm**\n",
        "\n",
        "The key process in quickSort is a partition(). There are three common algorithms to partition. All these algorithms have O(n) time complexity.\n",
        "\n",
        "1. Naive Partition: Here we create copy of the array. First put all smaller elements and then all greater. Finally we copy the temporary array back to original array. This requires O(n) extra space.\n",
        "2. Lomuto Partition: This is a simple algorithm, we keep track of index of smaller elements and keep swapping.\n",
        "3. Hoare's Partition: This is the fastest of all. Here we traverse array from both sides and keep swapping greater element on left with smaller on right while the array is not partitioned.\n",
        "\n",
        "**Time Complexity**\n",
        "\n",
        "* Best Case: (Ω(n log n)), Occurs when the pivot element divides the array into two equal halves.\n",
        "* Average Case (θ(n log n)), On average, the pivot divides the array into two parts, but not necessarily equal.\n",
        "* Worst Case: (O(n²)), Occurs when the smallest or largest element is always chosen as the pivot (e.g., sorted arrays).\n",
        "\n",
        "**Auxiliary Space** \n",
        "\n",
        "O(n), due to recursive call stack"
      ]
    },
    {
      "cell_type": "code",
      "execution_count": 5,
      "metadata": {
        "colab": {
          "base_uri": "https://localhost:8080/"
        },
        "id": "KsIjwDyL2cHF",
        "outputId": "aaf996bf-f3c0-423b-d65f-91b5addf1542"
      },
      "outputs": [
        {
          "data": {
            "text/plain": [
              "[11, 12, 22, 25, 34, 64, 90]"
            ]
          },
          "execution_count": 5,
          "metadata": {},
          "output_type": "execute_result"
        }
      ],
      "source": [
        "# Lomuto Partition\n",
        "def partition(nums, start, end):\n",
        "    pivot = nums[end]\n",
        "    i = start - 1\n",
        "\n",
        "    for j in range(start, end):\n",
        "        if nums[j] < pivot:\n",
        "            i += 1\n",
        "            nums[i], nums[j] = nums[j], nums[i]\n",
        "\n",
        "    nums[i + 1], nums[end] = nums[end], nums[i + 1]\n",
        "    return i + 1\n",
        "\n",
        "def quick_sort(nums, start=0, end=None):\n",
        "    if end is None:\n",
        "        end = len(nums) - 1\n",
        "\n",
        "    if start < end:\n",
        "        pivot = partition(nums, start, end)\n",
        "        quick_sort(nums, start, pivot - 1)\n",
        "        quick_sort(nums, pivot + 1, end)\n",
        "\n",
        "nums = [64, 34, 25, 12, 22, 11, 90]\n",
        "quick_sort(nums)\n",
        "nums"
      ]
    }
  ],
  "metadata": {
    "colab": {
      "authorship_tag": "ABX9TyMRoprTM/26FOHrCUOSNIlC",
      "provenance": []
    },
    "kernelspec": {
      "display_name": "Python 3",
      "name": "python3"
    },
    "language_info": {
      "codemirror_mode": {
        "name": "ipython",
        "version": 3
      },
      "file_extension": ".py",
      "mimetype": "text/x-python",
      "name": "python",
      "nbconvert_exporter": "python",
      "pygments_lexer": "ipython3",
      "version": "3.13.2"
    }
  },
  "nbformat": 4,
  "nbformat_minor": 0
}
