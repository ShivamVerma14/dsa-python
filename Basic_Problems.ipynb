{
  "nbformat": 4,
  "nbformat_minor": 0,
  "metadata": {
    "colab": {
      "provenance": [],
      "collapsed_sections": [
        "by-3ZeiXu1F5",
        "k1fz0evm4ybr",
        "H7Ml71875tiC",
        "Cyl_PdR26lWY",
        "wK0FPcCN74wS",
        "ylSN2hzB8--b",
        "GqYfpJMw9xip",
        "bvzsdctw-Z1P",
        "WnlHoRwg_EKy",
        "cM0xFTIl_7Uf"
      ],
      "authorship_tag": "ABX9TyOzmJ+6kOijYr/QDi/ddvmf"
    },
    "kernelspec": {
      "name": "python3",
      "display_name": "Python 3"
    },
    "language_info": {
      "name": "python"
    }
  },
  "cells": [
    {
      "cell_type": "markdown",
      "source": [
        "# Basic Programming Questions\n",
        "\n",
        "This notebook contains the basic programming questions from Striver's A2Z DSA course sheet."
      ],
      "metadata": {
        "id": "UkyYHgNauqz8"
      }
    },
    {
      "cell_type": "markdown",
      "source": [
        "### Count Digits\n",
        "\n",
        "Given an integer N, return the number of digits in N."
      ],
      "metadata": {
        "id": "by-3ZeiXu1F5"
      }
    },
    {
      "cell_type": "code",
      "execution_count": 2,
      "metadata": {
        "colab": {
          "base_uri": "https://localhost:8080/"
        },
        "id": "P8o4uBE-ufjI",
        "outputId": "e18437a0-bc8b-4611-e3b2-6497842fe5b5"
      },
      "outputs": [
        {
          "output_type": "execute_result",
          "data": {
            "text/plain": [
              "5"
            ]
          },
          "metadata": {},
          "execution_count": 2
        }
      ],
      "source": [
        "def count_digits(num):\n",
        "    count = 0\n",
        "    while num > 0:\n",
        "        count += 1\n",
        "        num //= 10\n",
        "    return count\n",
        "\n",
        "num = 56472\n",
        "count_digits(num)"
      ]
    },
    {
      "cell_type": "code",
      "source": [
        "import math\n",
        "\n",
        "def count_digits(num):\n",
        "    return int(math.log10(num) + 1)\n",
        "\n",
        "num = 56742\n",
        "count_digits(num)"
      ],
      "metadata": {
        "colab": {
          "base_uri": "https://localhost:8080/"
        },
        "id": "T-ly5ZPXvPj_",
        "outputId": "c0738ff4-c192-4b35-a665-58f268c0cf6c"
      },
      "execution_count": 3,
      "outputs": [
        {
          "output_type": "execute_result",
          "data": {
            "text/plain": [
              "5"
            ]
          },
          "metadata": {},
          "execution_count": 3
        }
      ]
    },
    {
      "cell_type": "markdown",
      "source": [
        "### Reverse a number\n",
        "\n",
        "Given an integer N return the reverse of the given number.\n",
        "\n",
        "Note: If a number has trailing zeros, then its reverse will not include them. For e.g., reverse of 10400 will be 401 instead of 00401."
      ],
      "metadata": {
        "id": "k1fz0evm4ybr"
      }
    },
    {
      "cell_type": "code",
      "source": [
        "def reverse_number(num):\n",
        "    reversed_num = 0\n",
        "    while num > 0:\n",
        "        digit = num % 10\n",
        "        reversed_num = reversed_num * 10 + digit\n",
        "        num //= 10\n",
        "    return reversed_num\n",
        "\n",
        "num = 12345\n",
        "reverse_number(num)"
      ],
      "metadata": {
        "colab": {
          "base_uri": "https://localhost:8080/"
        },
        "id": "5fgkI0tavqu5",
        "outputId": "5d504e4e-dc61-481d-9a2f-e91575ad308d"
      },
      "execution_count": 4,
      "outputs": [
        {
          "output_type": "execute_result",
          "data": {
            "text/plain": [
              "54321"
            ]
          },
          "metadata": {},
          "execution_count": 4
        }
      ]
    },
    {
      "cell_type": "markdown",
      "source": [
        "### Check Palindrome\n",
        "\n",
        "Given an integer N, return true if it is a palindrome else return false.\n",
        "\n",
        "A palindrome is a number that reads the same backward as forward. For example, 121, 1331, and 4554 are palindromes because they remain the same when their digits are reversed."
      ],
      "metadata": {
        "id": "H7Ml71875tiC"
      }
    },
    {
      "cell_type": "code",
      "source": [
        "def check_palindrome(num):\n",
        "    original_num = num\n",
        "    reversed_num = 0\n",
        "    while num > 0:\n",
        "        digit = num % 10\n",
        "        reversed_num = reversed_num * 10 + digit\n",
        "        num //= 10\n",
        "    return original_num == reversed_num\n",
        "\n",
        "num = 12321\n",
        "check_palindrome(num)"
      ],
      "metadata": {
        "colab": {
          "base_uri": "https://localhost:8080/"
        },
        "id": "lDkdE2dk5hST",
        "outputId": "a5fbd4c0-64fd-4df2-c15f-60a87394644a"
      },
      "execution_count": 5,
      "outputs": [
        {
          "output_type": "execute_result",
          "data": {
            "text/plain": [
              "True"
            ]
          },
          "metadata": {},
          "execution_count": 5
        }
      ]
    },
    {
      "cell_type": "markdown",
      "source": [
        "### GCD of a number\n",
        "Given two integers a and b, find their greatest common divisor.\n",
        "\n",
        "The Greatest Common Divisor of any two integers is the largest number that divides both integers.\n"
      ],
      "metadata": {
        "id": "Cyl_PdR26lWY"
      }
    },
    {
      "cell_type": "code",
      "source": [
        "def find_gcd(a, b):\n",
        "    for i in range(min(a, b), 0, -1):\n",
        "        if a % i == 0 and b % i == 0:\n",
        "            return i\n",
        "    return 1\n",
        "\n",
        "find_gcd(20, 15)"
      ],
      "metadata": {
        "colab": {
          "base_uri": "https://localhost:8080/"
        },
        "id": "Y7p5K0ns6KRj",
        "outputId": "5b71710e-b528-4ac3-b4ba-f7a677937b63"
      },
      "execution_count": 6,
      "outputs": [
        {
          "output_type": "execute_result",
          "data": {
            "text/plain": [
              "5"
            ]
          },
          "metadata": {},
          "execution_count": 6
        }
      ]
    },
    {
      "cell_type": "code",
      "source": [
        "def find_gcd(a, b):\n",
        "    if b == 0:\n",
        "        return a\n",
        "\n",
        "    return find_gcd(b, a % b)\n",
        "\n",
        "find_gcd(20, 15)"
      ],
      "metadata": {
        "colab": {
          "base_uri": "https://localhost:8080/"
        },
        "id": "sfNrz08i7UmF",
        "outputId": "dc51bbf2-220a-42f3-def3-23f99667d0ab"
      },
      "execution_count": 7,
      "outputs": [
        {
          "output_type": "execute_result",
          "data": {
            "text/plain": [
              "5"
            ]
          },
          "metadata": {},
          "execution_count": 7
        }
      ]
    },
    {
      "cell_type": "markdown",
      "source": [
        "### Armstrong Number\n",
        "\n",
        "Given an integer N, return true it is an Armstrong number otherwise return false.\n",
        "\n",
        "An Armstrong number is a number that is equal to the sum of its own digits each raised to the power of the number of digits."
      ],
      "metadata": {
        "id": "wK0FPcCN74wS"
      }
    },
    {
      "cell_type": "code",
      "source": [
        "import math\n",
        "\n",
        "def is_armstrong(num):\n",
        "    num_digits = int(math.log10(num) + 1)\n",
        "    total = 0\n",
        "    temp = num\n",
        "\n",
        "    while temp > 0:\n",
        "        digit = temp % 10\n",
        "        total += digit ** num_digits\n",
        "        temp //= 10\n",
        "\n",
        "    return total == num\n",
        "\n",
        "is_armstrong(153)"
      ],
      "metadata": {
        "colab": {
          "base_uri": "https://localhost:8080/"
        },
        "id": "29xsmG5i7wkF",
        "outputId": "167871e7-3cb7-4b67-b6ba-30e67edcfd87"
      },
      "execution_count": 8,
      "outputs": [
        {
          "output_type": "execute_result",
          "data": {
            "text/plain": [
              "True"
            ]
          },
          "metadata": {},
          "execution_count": 8
        }
      ]
    },
    {
      "cell_type": "markdown",
      "source": [
        "### Print all divisors\n",
        "\n",
        "Given an integer N, return all divisors of N.\n",
        "\n",
        "A divisor of an integer N is a positive integer that divides N without leaving a remainder. In other words, if N is divisible by another integer without any remainder, then that integer is considered a divisor of N."
      ],
      "metadata": {
        "id": "ylSN2hzB8--b"
      }
    },
    {
      "cell_type": "code",
      "source": [
        "import math\n",
        "\n",
        "def find_divisors(num):\n",
        "    sqrt_num = math.floor(math.sqrt(num))\n",
        "    divisors = []\n",
        "\n",
        "    for i in range(1, sqrt_num + 1):\n",
        "        if num % i == 0:\n",
        "            divisors.append(i)\n",
        "            if i != num // i:\n",
        "                divisors.append(num // i)\n",
        "\n",
        "    return divisors\n",
        "\n",
        "find_divisors(46)"
      ],
      "metadata": {
        "colab": {
          "base_uri": "https://localhost:8080/"
        },
        "id": "zJt86BAQ80N1",
        "outputId": "af147dff-d5b7-4373-992a-3dee252776ba"
      },
      "execution_count": 9,
      "outputs": [
        {
          "output_type": "execute_result",
          "data": {
            "text/plain": [
              "[1, 46, 2, 23]"
            ]
          },
          "metadata": {},
          "execution_count": 9
        }
      ]
    },
    {
      "cell_type": "markdown",
      "source": [
        "### Check Prime\n",
        "\n",
        "Given an integer N, check whether it is prime or not. A prime number is a number that is only divisible by 1 and itself and the total number of divisors is 2."
      ],
      "metadata": {
        "id": "GqYfpJMw9xip"
      }
    },
    {
      "cell_type": "code",
      "source": [
        "import math\n",
        "\n",
        "def check_prime(num):\n",
        "    sqrt_num = math.floor(math.sqrt(num))\n",
        "    for i in range(2, sqrt_num + 1):\n",
        "        if num  % i == 0:\n",
        "            return False\n",
        "    return True\n",
        "\n",
        "check_prime(47)"
      ],
      "metadata": {
        "colab": {
          "base_uri": "https://localhost:8080/"
        },
        "id": "t58NGB_y9rTp",
        "outputId": "d399ecb5-8799-408c-81e8-949a24911adc"
      },
      "execution_count": 10,
      "outputs": [
        {
          "output_type": "execute_result",
          "data": {
            "text/plain": [
              "True"
            ]
          },
          "metadata": {},
          "execution_count": 10
        }
      ]
    },
    {
      "cell_type": "markdown",
      "source": [
        "### Factorial of a number\n",
        "\n",
        "Given a number X,  print its factorial."
      ],
      "metadata": {
        "id": "bvzsdctw-Z1P"
      }
    },
    {
      "cell_type": "code",
      "source": [
        "def factorial(num):\n",
        "    fact = 1\n",
        "    for i in range(2, num + 1):\n",
        "        fact *= i\n",
        "    return fact\n",
        "\n",
        "factorial(5)"
      ],
      "metadata": {
        "colab": {
          "base_uri": "https://localhost:8080/"
        },
        "id": "0qoAFqcG-Sap",
        "outputId": "666dff73-da07-4090-9d52-823190ce571c"
      },
      "execution_count": 12,
      "outputs": [
        {
          "output_type": "execute_result",
          "data": {
            "text/plain": [
              "120"
            ]
          },
          "metadata": {},
          "execution_count": 12
        }
      ]
    },
    {
      "cell_type": "code",
      "source": [
        "def factorial(num):\n",
        "    if num <= 1:\n",
        "        return 1\n",
        "\n",
        "    return num * factorial(num - 1)\n",
        "\n",
        "factorial(5)"
      ],
      "metadata": {
        "colab": {
          "base_uri": "https://localhost:8080/"
        },
        "id": "sWSiLRPi-shD",
        "outputId": "c4757c3e-b474-4867-f06a-65cbeae95d28"
      },
      "execution_count": 13,
      "outputs": [
        {
          "output_type": "execute_result",
          "data": {
            "text/plain": [
              "120"
            ]
          },
          "metadata": {},
          "execution_count": 13
        }
      ]
    },
    {
      "cell_type": "markdown",
      "source": [
        "### Fibonacci Number\n",
        "\n",
        "Given an integer N. Print the Fibonacci series up to the Nth term."
      ],
      "metadata": {
        "id": "WnlHoRwg_EKy"
      }
    },
    {
      "cell_type": "code",
      "source": [
        "def fibonacci(n):\n",
        "    a, b = 0, 1\n",
        "    for i in range(n):\n",
        "        print(a, end=' ')\n",
        "        a, b = b, a + b\n",
        "\n",
        "fibonacci(10)"
      ],
      "metadata": {
        "colab": {
          "base_uri": "https://localhost:8080/"
        },
        "id": "dsnGLAph-9Lw",
        "outputId": "f68ec11f-3219-4660-8a56-472791f1188a"
      },
      "execution_count": 14,
      "outputs": [
        {
          "output_type": "stream",
          "name": "stdout",
          "text": [
            "0 1 1 2 3 5 8 13 21 34 "
          ]
        }
      ]
    },
    {
      "cell_type": "markdown",
      "source": [
        "### Check String Palindrome\n",
        "\n",
        "Given a string, check if the string is palindrome or not. A string is said to be palindrome if the reverse of the string is the same as the string."
      ],
      "metadata": {
        "id": "cM0xFTIl_7Uf"
      }
    },
    {
      "cell_type": "code",
      "source": [
        "def check_palindrome(s):\n",
        "    left, right = 0, len(s) - 1\n",
        "    while left < right:\n",
        "        if not s[left].isalnum():\n",
        "            left += 1\n",
        "        elif not s[right].isalnum():\n",
        "            right -= 1\n",
        "        elif s[left].lower() != s[right].lower():\n",
        "            return False\n",
        "        else:\n",
        "            left += 1\n",
        "            right -= 1\n",
        "    return True\n",
        "\n",
        "check_palindrome('race car')"
      ],
      "metadata": {
        "colab": {
          "base_uri": "https://localhost:8080/"
        },
        "id": "3uH-j4K3_m1H",
        "outputId": "9cb3eab8-4790-4e78-e9c1-5656ad8498f5"
      },
      "execution_count": 15,
      "outputs": [
        {
          "output_type": "execute_result",
          "data": {
            "text/plain": [
              "True"
            ]
          },
          "metadata": {},
          "execution_count": 15
        }
      ]
    }
  ]
}