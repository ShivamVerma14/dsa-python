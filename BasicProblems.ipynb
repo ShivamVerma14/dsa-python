{
  "cells": [
    {
      "cell_type": "markdown",
      "metadata": {
        "id": "UkyYHgNauqz8"
      },
      "source": [
        "# Basic Programming Questions\n",
        "\n",
        "This notebook contains the basic programming questions from Striver's A2Z DSA course sheet."
      ]
    },
    {
      "cell_type": "markdown",
      "metadata": {
        "id": "by-3ZeiXu1F5"
      },
      "source": [
        "### Count Digits\n",
        "\n",
        "Given an integer N, return the number of digits in N."
      ]
    },
    {
      "cell_type": "code",
      "execution_count": 2,
      "metadata": {
        "colab": {
          "base_uri": "https://localhost:8080/"
        },
        "id": "P8o4uBE-ufjI",
        "outputId": "e18437a0-bc8b-4611-e3b2-6497842fe5b5"
      },
      "outputs": [
        {
          "data": {
            "text/plain": [
              "5"
            ]
          },
          "execution_count": 2,
          "metadata": {},
          "output_type": "execute_result"
        }
      ],
      "source": [
        "def count_digits(num):\n",
        "    count = 0\n",
        "    while num > 0:\n",
        "        count += 1\n",
        "        num //= 10\n",
        "    return count\n",
        "\n",
        "num = 56472\n",
        "count_digits(num)"
      ]
    },
    {
      "cell_type": "code",
      "execution_count": 3,
      "metadata": {
        "colab": {
          "base_uri": "https://localhost:8080/"
        },
        "id": "T-ly5ZPXvPj_",
        "outputId": "c0738ff4-c192-4b35-a665-58f268c0cf6c"
      },
      "outputs": [
        {
          "data": {
            "text/plain": [
              "5"
            ]
          },
          "execution_count": 3,
          "metadata": {},
          "output_type": "execute_result"
        }
      ],
      "source": [
        "import math\n",
        "\n",
        "def count_digits(num):\n",
        "    return int(math.log10(num) + 1)\n",
        "\n",
        "num = 56742\n",
        "count_digits(num)"
      ]
    },
    {
      "cell_type": "markdown",
      "metadata": {
        "id": "k1fz0evm4ybr"
      },
      "source": [
        "### Reverse a number\n",
        "\n",
        "Given an integer N return the reverse of the given number.\n",
        "\n",
        "Note: If a number has trailing zeros, then its reverse will not include them. For e.g., reverse of 10400 will be 401 instead of 00401."
      ]
    },
    {
      "cell_type": "code",
      "execution_count": 8,
      "metadata": {
        "colab": {
          "base_uri": "https://localhost:8080/"
        },
        "id": "5fgkI0tavqu5",
        "outputId": "5d504e4e-dc61-481d-9a2f-e91575ad308d"
      },
      "outputs": [
        {
          "data": {
            "text/plain": [
              "54321"
            ]
          },
          "execution_count": 8,
          "metadata": {},
          "output_type": "execute_result"
        }
      ],
      "source": [
        "def reverse_number(num):\n",
        "    reversed_num = 0\n",
        "    while num > 0:\n",
        "        digit = num % 10\n",
        "        reversed_num = reversed_num * 10 + digit\n",
        "        num //= 10\n",
        "    return reversed_num\n",
        "\n",
        "num = 12345\n",
        "reverse_number(num)"
      ]
    },
    {
      "cell_type": "markdown",
      "metadata": {
        "id": "H7Ml71875tiC"
      },
      "source": [
        "### Check Palindrome\n",
        "\n",
        "Given an integer N, return true if it is a palindrome else return false.\n",
        "\n",
        "A palindrome is a number that reads the same backward as forward. For example, 121, 1331, and 4554 are palindromes because they remain the same when their digits are reversed."
      ]
    },
    {
      "cell_type": "code",
      "execution_count": 9,
      "metadata": {
        "colab": {
          "base_uri": "https://localhost:8080/"
        },
        "id": "lDkdE2dk5hST",
        "outputId": "a5fbd4c0-64fd-4df2-c15f-60a87394644a"
      },
      "outputs": [
        {
          "data": {
            "text/plain": [
              "True"
            ]
          },
          "execution_count": 9,
          "metadata": {},
          "output_type": "execute_result"
        }
      ],
      "source": [
        "def check_palindrome(num):\n",
        "    original_num = num\n",
        "    reversed_num = 0\n",
        "    while num > 0:\n",
        "        digit = num % 10\n",
        "        reversed_num = reversed_num * 10 + digit\n",
        "        num //= 10\n",
        "    return original_num == reversed_num\n",
        "\n",
        "num = 12321\n",
        "check_palindrome(num)"
      ]
    },
    {
      "cell_type": "markdown",
      "metadata": {
        "id": "Cyl_PdR26lWY"
      },
      "source": [
        "### GCD of a number\n",
        "Given two integers a and b, find their greatest common divisor.\n",
        "\n",
        "The Greatest Common Divisor of any two integers is the largest number that divides both integers.\n"
      ]
    },
    {
      "cell_type": "code",
      "execution_count": 11,
      "metadata": {
        "colab": {
          "base_uri": "https://localhost:8080/"
        },
        "id": "Y7p5K0ns6KRj",
        "outputId": "5b71710e-b528-4ac3-b4ba-f7a677937b63"
      },
      "outputs": [
        {
          "data": {
            "text/plain": [
              "5"
            ]
          },
          "execution_count": 11,
          "metadata": {},
          "output_type": "execute_result"
        }
      ],
      "source": [
        "def find_gcd(a, b):\n",
        "    for i in range(min(a, b), 0, -1):\n",
        "        if a % i == 0 and b % i == 0:\n",
        "            return i\n",
        "    return 1\n",
        "\n",
        "find_gcd(20, 15)"
      ]
    },
    {
      "cell_type": "code",
      "execution_count": 12,
      "metadata": {
        "colab": {
          "base_uri": "https://localhost:8080/"
        },
        "id": "sfNrz08i7UmF",
        "outputId": "dc51bbf2-220a-42f3-def3-23f99667d0ab"
      },
      "outputs": [
        {
          "data": {
            "text/plain": [
              "5"
            ]
          },
          "execution_count": 12,
          "metadata": {},
          "output_type": "execute_result"
        }
      ],
      "source": [
        "def find_gcd(a, b):\n",
        "    if b == 0:\n",
        "        return a\n",
        "\n",
        "    return find_gcd(b, a % b)\n",
        "\n",
        "find_gcd(20, 15)"
      ]
    },
    {
      "cell_type": "markdown",
      "metadata": {
        "id": "wK0FPcCN74wS"
      },
      "source": [
        "### Armstrong Number\n",
        "\n",
        "Given an integer N, return true it is an Armstrong number otherwise return false.\n",
        "\n",
        "An Armstrong number is a number that is equal to the sum of its own digits each raised to the power of the number of digits."
      ]
    },
    {
      "cell_type": "code",
      "execution_count": 13,
      "metadata": {
        "colab": {
          "base_uri": "https://localhost:8080/"
        },
        "id": "29xsmG5i7wkF",
        "outputId": "167871e7-3cb7-4b67-b6ba-30e67edcfd87"
      },
      "outputs": [
        {
          "data": {
            "text/plain": [
              "True"
            ]
          },
          "execution_count": 13,
          "metadata": {},
          "output_type": "execute_result"
        }
      ],
      "source": [
        "import math\n",
        "\n",
        "def is_armstrong(num):\n",
        "    num_digits = int(math.log10(num) + 1)\n",
        "    total = 0\n",
        "    temp = num\n",
        "\n",
        "    while temp > 0:\n",
        "        digit = temp % 10\n",
        "        total += digit ** num_digits\n",
        "        temp //= 10\n",
        "\n",
        "    return total == num\n",
        "\n",
        "is_armstrong(153)"
      ]
    },
    {
      "cell_type": "markdown",
      "metadata": {
        "id": "ylSN2hzB8--b"
      },
      "source": [
        "### Print all divisors\n",
        "\n",
        "Given an integer N, return all divisors of N.\n",
        "\n",
        "A divisor of an integer N is a positive integer that divides N without leaving a remainder. In other words, if N is divisible by another integer without any remainder, then that integer is considered a divisor of N."
      ]
    },
    {
      "cell_type": "code",
      "execution_count": 14,
      "metadata": {
        "colab": {
          "base_uri": "https://localhost:8080/"
        },
        "id": "zJt86BAQ80N1",
        "outputId": "af147dff-d5b7-4373-992a-3dee252776ba"
      },
      "outputs": [
        {
          "data": {
            "text/plain": [
              "[1, 46, 2, 23]"
            ]
          },
          "execution_count": 14,
          "metadata": {},
          "output_type": "execute_result"
        }
      ],
      "source": [
        "import math\n",
        "\n",
        "def find_divisors(num):\n",
        "    sqrt_num = math.floor(math.sqrt(num))\n",
        "    divisors = []\n",
        "\n",
        "    for i in range(1, sqrt_num + 1):\n",
        "        if num % i == 0:\n",
        "            divisors.append(i)\n",
        "            if i != num // i:\n",
        "                divisors.append(num // i)\n",
        "\n",
        "    return divisors\n",
        "\n",
        "find_divisors(46)"
      ]
    },
    {
      "cell_type": "markdown",
      "metadata": {
        "id": "GqYfpJMw9xip"
      },
      "source": [
        "### Check Prime\n",
        "\n",
        "Given an integer N, check whether it is prime or not. A prime number is a number that is only divisible by 1 and itself and the total number of divisors is 2."
      ]
    },
    {
      "cell_type": "code",
      "execution_count": 15,
      "metadata": {
        "colab": {
          "base_uri": "https://localhost:8080/"
        },
        "id": "t58NGB_y9rTp",
        "outputId": "d399ecb5-8799-408c-81e8-949a24911adc"
      },
      "outputs": [
        {
          "data": {
            "text/plain": [
              "True"
            ]
          },
          "execution_count": 15,
          "metadata": {},
          "output_type": "execute_result"
        }
      ],
      "source": [
        "import math\n",
        "\n",
        "def check_prime(num):\n",
        "    sqrt_num = math.floor(math.sqrt(num))\n",
        "    for i in range(2, sqrt_num + 1):\n",
        "        if num  % i == 0:\n",
        "            return False\n",
        "    return True\n",
        "\n",
        "check_prime(47)"
      ]
    },
    {
      "cell_type": "markdown",
      "metadata": {
        "id": "bvzsdctw-Z1P"
      },
      "source": [
        "### Factorial of a number\n",
        "\n",
        "Given a number X,  print its factorial."
      ]
    },
    {
      "cell_type": "code",
      "execution_count": 16,
      "metadata": {
        "colab": {
          "base_uri": "https://localhost:8080/"
        },
        "id": "0qoAFqcG-Sap",
        "outputId": "666dff73-da07-4090-9d52-823190ce571c"
      },
      "outputs": [
        {
          "data": {
            "text/plain": [
              "120"
            ]
          },
          "execution_count": 16,
          "metadata": {},
          "output_type": "execute_result"
        }
      ],
      "source": [
        "def factorial(num):\n",
        "    fact = 1\n",
        "    for i in range(2, num + 1):\n",
        "        fact *= i\n",
        "    return fact\n",
        "\n",
        "factorial(5)"
      ]
    },
    {
      "cell_type": "code",
      "execution_count": 18,
      "metadata": {
        "colab": {
          "base_uri": "https://localhost:8080/"
        },
        "id": "sWSiLRPi-shD",
        "outputId": "c4757c3e-b474-4867-f06a-65cbeae95d28"
      },
      "outputs": [
        {
          "data": {
            "text/plain": [
              "120"
            ]
          },
          "execution_count": 18,
          "metadata": {},
          "output_type": "execute_result"
        }
      ],
      "source": [
        "def factorial(num):\n",
        "    if num <= 1:\n",
        "        return 1\n",
        "\n",
        "    return num * factorial(num - 1)\n",
        "\n",
        "factorial(5)"
      ]
    },
    {
      "cell_type": "markdown",
      "metadata": {
        "id": "WnlHoRwg_EKy"
      },
      "source": [
        "### Fibonacci Number\n",
        "\n",
        "Given an integer N. Print the Fibonacci series up to the Nth term."
      ]
    },
    {
      "cell_type": "code",
      "execution_count": 19,
      "metadata": {
        "colab": {
          "base_uri": "https://localhost:8080/"
        },
        "id": "dsnGLAph-9Lw",
        "outputId": "f68ec11f-3219-4660-8a56-472791f1188a"
      },
      "outputs": [
        {
          "name": "stdout",
          "output_type": "stream",
          "text": [
            "0 1 1 2 3 5 8 13 21 34 "
          ]
        }
      ],
      "source": [
        "def fibonacci(n):\n",
        "    a, b = 0, 1\n",
        "    for i in range(n):\n",
        "        print(a, end=' ')\n",
        "        a, b = b, a + b\n",
        "\n",
        "fibonacci(10)"
      ]
    },
    {
      "cell_type": "markdown",
      "metadata": {
        "id": "cM0xFTIl_7Uf"
      },
      "source": [
        "### Check String Palindrome\n",
        "\n",
        "Given a string, check if the string is palindrome or not. A string is said to be palindrome if the reverse of the string is the same as the string."
      ]
    },
    {
      "cell_type": "code",
      "execution_count": 20,
      "metadata": {
        "colab": {
          "base_uri": "https://localhost:8080/"
        },
        "id": "3uH-j4K3_m1H",
        "outputId": "9cb3eab8-4790-4e78-e9c1-5656ad8498f5"
      },
      "outputs": [
        {
          "data": {
            "text/plain": [
              "True"
            ]
          },
          "execution_count": 20,
          "metadata": {},
          "output_type": "execute_result"
        }
      ],
      "source": [
        "def check_palindrome(s):\n",
        "    left, right = 0, len(s) - 1\n",
        "    while left < right:\n",
        "        if not s[left].isalnum():\n",
        "            left += 1\n",
        "        elif not s[right].isalnum():\n",
        "            right -= 1\n",
        "        elif s[left].lower() != s[right].lower():\n",
        "            return False\n",
        "        else:\n",
        "            left += 1\n",
        "            right -= 1\n",
        "    return True\n",
        "\n",
        "check_palindrome('race car')"
      ]
    }
  ],
  "metadata": {
    "colab": {
      "authorship_tag": "ABX9TyOzmJ+6kOijYr/QDi/ddvmf",
      "collapsed_sections": [
        "by-3ZeiXu1F5",
        "k1fz0evm4ybr",
        "H7Ml71875tiC",
        "Cyl_PdR26lWY",
        "wK0FPcCN74wS",
        "ylSN2hzB8--b",
        "GqYfpJMw9xip",
        "bvzsdctw-Z1P",
        "WnlHoRwg_EKy",
        "cM0xFTIl_7Uf"
      ],
      "provenance": []
    },
    "kernelspec": {
      "display_name": "Python 3",
      "name": "python3"
    },
    "language_info": {
      "codemirror_mode": {
        "name": "ipython",
        "version": 3
      },
      "file_extension": ".py",
      "mimetype": "text/x-python",
      "name": "python",
      "nbconvert_exporter": "python",
      "pygments_lexer": "ipython3",
      "version": "3.13.2"
    }
  },
  "nbformat": 4,
  "nbformat_minor": 0
}
