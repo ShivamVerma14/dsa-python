{
 "cells": [
  {
   "cell_type": "markdown",
   "id": "f5c54ce9",
   "metadata": {},
   "source": [
    "# Arrays\n",
    "\n",
    "This notebook contains the problems related to Arrays comprising of easy, medium and hard level questions."
   ]
  },
  {
   "cell_type": "markdown",
   "id": "8901ccc0",
   "metadata": {},
   "source": [
    "## Easy Questions"
   ]
  },
  {
   "cell_type": "markdown",
   "id": "a51e7feb",
   "metadata": {},
   "source": [
    "### Largest Element in an Array\n",
    "\n",
    "Given an array, we have to find the largest element in the array."
   ]
  },
  {
   "cell_type": "code",
   "execution_count": 1,
   "id": "b48eb5ec",
   "metadata": {},
   "outputs": [
    {
     "data": {
      "text/plain": [
       "10"
      ]
     },
     "execution_count": 1,
     "metadata": {},
     "output_type": "execute_result"
    }
   ],
   "source": [
    "def largest(nums):\n",
    "    return max(nums)\n",
    "\n",
    "nums = [8, 10, 5, 7, 9]\n",
    "largest(nums)"
   ]
  },
  {
   "cell_type": "code",
   "execution_count": 2,
   "id": "22985d1a",
   "metadata": {},
   "outputs": [
    {
     "data": {
      "text/plain": [
       "10"
      ]
     },
     "execution_count": 2,
     "metadata": {},
     "output_type": "execute_result"
    }
   ],
   "source": [
    "def largest(nums):\n",
    "    max_element = float('-inf')\n",
    "    for num in nums:\n",
    "        if max_element < num:\n",
    "            max_element = num\n",
    "    return max_element\n",
    "\n",
    "nums = [8, 10, 5, 7, 9]\n",
    "largest(nums)"
   ]
  },
  {
   "cell_type": "markdown",
   "id": "e37afc38",
   "metadata": {},
   "source": [
    "### Second Largest Element\n",
    "\n",
    "Given an array, find the second smallest and second largest element in the array. Print ‘-1’ in the event that either of them doesn’t exist."
   ]
  },
  {
   "cell_type": "code",
   "execution_count": 3,
   "id": "674776e6",
   "metadata": {},
   "outputs": [
    {
     "data": {
      "text/plain": [
       "9"
      ]
     },
     "execution_count": 3,
     "metadata": {},
     "output_type": "execute_result"
    }
   ],
   "source": [
    "def second_largest(nums):\n",
    "    if len(nums) < 2:\n",
    "        return -1\n",
    "    \n",
    "    largest = float('-inf')\n",
    "    second_largest = float('-inf')\n",
    "\n",
    "    for num in nums:\n",
    "        if num > largest:\n",
    "            second_largest = largest\n",
    "            largest = num\n",
    "        elif num > second_largest:\n",
    "            second_largest = num\n",
    "\n",
    "    return second_largest\n",
    "\n",
    "nums = [8, 10, 5, 7, 9]\n",
    "second_largest(nums)"
   ]
  },
  {
   "cell_type": "markdown",
   "id": "9c1ce1b3",
   "metadata": {},
   "source": [
    "### Is Array Sorted\n",
    "\n",
    "Given an array of size n, write a program to check if the given array is sorted in (ascending / Increasing / Non-decreasing) order or not. If the array is sorted then return True, Else return False."
   ]
  },
  {
   "cell_type": "code",
   "execution_count": 4,
   "id": "413f9c60",
   "metadata": {},
   "outputs": [
    {
     "data": {
      "text/plain": [
       "True"
      ]
     },
     "execution_count": 4,
     "metadata": {},
     "output_type": "execute_result"
    }
   ],
   "source": [
    "def check_sorted(nums):\n",
    "    for i in range(1, len(nums)):\n",
    "        if nums[i] < nums[i - 1]:\n",
    "            return False\n",
    "    return True\n",
    "\n",
    "nums = [1, 2, 3, 4, 5]\n",
    "check_sorted(nums)"
   ]
  },
  {
   "cell_type": "markdown",
   "id": "95c5ca57",
   "metadata": {},
   "source": [
    "### Remove Duplicates from Sorted Array\n",
    "\n",
    "Given an integer array sorted in non-decreasing order, remove the duplicates in place such that each unique element appears only once. The relative order of the elements should be kept the same.\n",
    "\n",
    "If there are k elements after removing the duplicates, then the first k elements of the array should hold the final result. It does not matter what you leave beyond the first k elements.\n",
    "\n",
    "Note: Return k after placing the final result in the first k slots of the array."
   ]
  },
  {
   "cell_type": "code",
   "execution_count": 5,
   "id": "93514312",
   "metadata": {},
   "outputs": [
    {
     "data": {
      "text/plain": [
       "[1, 2, 3, 4]"
      ]
     },
     "execution_count": 5,
     "metadata": {},
     "output_type": "execute_result"
    }
   ],
   "source": [
    "def remove_duplicates(nums):\n",
    "    i = 0\n",
    "    for j in range(len(nums)):\n",
    "        if nums[i] != nums[j]:\n",
    "            i += 1\n",
    "            nums[i] = nums[j]\n",
    "    return i + 1\n",
    "\n",
    "nums = [1, 1, 1, 2, 2, 3, 3, 3, 4]\n",
    "k = remove_duplicates(nums)\n",
    "nums[:k]"
   ]
  },
  {
   "cell_type": "markdown",
   "id": "207706c8",
   "metadata": {},
   "source": [
    "### Left Rotate by K places\n",
    "\n",
    "Given an array of integers, rotating array of elements by k elements either left or right."
   ]
  },
  {
   "cell_type": "code",
   "execution_count": 7,
   "id": "037a5a54",
   "metadata": {},
   "outputs": [
    {
     "data": {
      "text/plain": [
       "[5, 6, 7, 1, 2, 3, 4]"
      ]
     },
     "execution_count": 7,
     "metadata": {},
     "output_type": "execute_result"
    }
   ],
   "source": [
    "def left_rotate(nums, k):\n",
    "    nums.reverse()\n",
    "    nums[:k] = reversed(nums[:k])\n",
    "    nums[k:] = reversed(nums[k:])\n",
    "\n",
    "nums = [1, 2, 3, 4, 5, 6, 7]\n",
    "left_rotate(nums, 3)\n",
    "nums"
   ]
  },
  {
   "cell_type": "markdown",
   "id": "6914a441",
   "metadata": {},
   "source": [
    "### Move zeros to end\n",
    "\n",
    "You are given an array of integers, your task is to move all the zeros in the array to the end of the array and move non-negative integers to the front by maintaining their order."
   ]
  },
  {
   "cell_type": "code",
   "execution_count": 9,
   "id": "79376dd6",
   "metadata": {},
   "outputs": [
    {
     "data": {
      "text/plain": [
       "[1, 2, 3, 4, 1, 0, 0, 0]"
      ]
     },
     "execution_count": 9,
     "metadata": {},
     "output_type": "execute_result"
    }
   ],
   "source": [
    "def move_zeros(nums):\n",
    "    i = 0\n",
    "\n",
    "    for j in range(len(nums)):\n",
    "        if nums[j] != 0:\n",
    "            nums[i] = nums[j]\n",
    "            i += 1\n",
    "\n",
    "    for j in range(i, len(nums)):\n",
    "        nums[j] = 0\n",
    "\n",
    "nums = [1, 0, 2, 3, 0, 4, 0, 1]\n",
    "move_zeros(nums)\n",
    "nums"
   ]
  },
  {
   "cell_type": "markdown",
   "id": "11f76cc2",
   "metadata": {},
   "source": [
    "### Linear Search\n",
    "\n",
    "Given an array, and an element num the task is to find if num is present in the given array or not. If present print the index of the element or print -1."
   ]
  },
  {
   "cell_type": "code",
   "execution_count": 10,
   "id": "d74a9716",
   "metadata": {},
   "outputs": [
    {
     "data": {
      "text/plain": [
       "2"
      ]
     },
     "execution_count": 10,
     "metadata": {},
     "output_type": "execute_result"
    }
   ],
   "source": [
    "def linear_search(nums, key):\n",
    "    for i, num in enumerate(nums):\n",
    "        if num == key:\n",
    "            return i\n",
    "    return -1\n",
    "\n",
    "nums = [1, 2, 3, 4, 5]\n",
    "linear_search(nums, 3)"
   ]
  },
  {
   "cell_type": "markdown",
   "id": "3ef7a916",
   "metadata": {},
   "source": [
    "### Union of two Sorted Arrays\n",
    "\n",
    "Given two sorted arrays, arr1 and arr2 of size n and m. Find the union of two sorted arrays.\n",
    "\n",
    "The union of two arrays can be defined as the common and distinct elements in the two arrays.\n",
    "\n",
    "NOTE: Elements in the union should be in ascending order."
   ]
  },
  {
   "cell_type": "code",
   "execution_count": 12,
   "id": "dabd86de",
   "metadata": {},
   "outputs": [
    {
     "data": {
      "text/plain": [
       "[1, 2, 3, 4, 5, 6]"
      ]
     },
     "execution_count": 12,
     "metadata": {},
     "output_type": "execute_result"
    }
   ],
   "source": [
    "def union(arr1, arr2):\n",
    "    ans = []\n",
    "    i = j = 0\n",
    "\n",
    "    while i < len(arr1) and j < len(arr2):\n",
    "        if arr1[i] <= arr2[j]:\n",
    "            if len(ans) == 0 or ans[-1] != arr1[i]:\n",
    "                ans.append(arr1[i])\n",
    "            i += 1\n",
    "        else:\n",
    "            if len(ans) == 0 or ans[-1] != arr2[j]:\n",
    "                ans.append(arr2[j])\n",
    "            j += 1\n",
    "\n",
    "    while i < len(arr1):\n",
    "        if len(ans) == 0 or ans[-1] != arr1[i]:\n",
    "            ans.append(arr1[i])\n",
    "        i += 1\n",
    "\n",
    "    while j < len(arr2):\n",
    "        if len(ans) == 0 or ans[-1] != arr2[j]:\n",
    "            ans.append(arr2[j])\n",
    "        j += 1\n",
    "\n",
    "    return ans\n",
    "\n",
    "arr1 = [1, 2, 3, 4, 5]\n",
    "arr2 = [2, 3, 4, 4, 6]\n",
    "union(arr1, arr2)"
   ]
  },
  {
   "cell_type": "markdown",
   "id": "cfd46101",
   "metadata": {},
   "source": [
    "### Missing Number in an Array\n",
    "\n",
    "Given an integer N and an array of size N-1 containing N-1 numbers between 1 to N. Find the number(between 1 to N), that is not present in the given array."
   ]
  },
  {
   "cell_type": "code",
   "execution_count": 13,
   "id": "899116b5",
   "metadata": {},
   "outputs": [
    {
     "data": {
      "text/plain": [
       "3"
      ]
     },
     "execution_count": 13,
     "metadata": {},
     "output_type": "execute_result"
    }
   ],
   "source": [
    "def missing_number(nums):\n",
    "    n = len(nums) + 1\n",
    "    ans = 0\n",
    "\n",
    "    for i in range(1, n + 1):\n",
    "        ans ^= i\n",
    "\n",
    "    for num in nums:\n",
    "        ans ^= num\n",
    "\n",
    "    return ans\n",
    "\n",
    "nums = [1, 2, 4, 5]\n",
    "missing_number(nums)"
   ]
  },
  {
   "cell_type": "markdown",
   "id": "cacb9faf",
   "metadata": {},
   "source": [
    "### Maximum Consecutive Ones\n",
    "\n",
    "Given an array that contains only 1 and 0, return the count of maximum consecutive ones in the array."
   ]
  },
  {
   "cell_type": "code",
   "execution_count": 14,
   "id": "01cb8be3",
   "metadata": {},
   "outputs": [
    {
     "data": {
      "text/plain": [
       "4"
      ]
     },
     "execution_count": 14,
     "metadata": {},
     "output_type": "execute_result"
    }
   ],
   "source": [
    "def max_consecutive_ones(nums):\n",
    "    max_count = 0\n",
    "    count = 0\n",
    "\n",
    "    for num in nums:\n",
    "        if num == 1:\n",
    "            count += 1\n",
    "            max_count = max(count, max_count)\n",
    "        else:\n",
    "            count = 0\n",
    "\n",
    "    return max_count\n",
    "\n",
    "nums = [1, 1, 0, 0, 1, 1, 1, 1]\n",
    "max_consecutive_ones(nums)"
   ]
  },
  {
   "cell_type": "markdown",
   "id": "30add9e1",
   "metadata": {},
   "source": [
    "### Number appearing once\n",
    "\n",
    "Given a non-empty array of integers arr, every element appears twice except for one. Find that single one."
   ]
  },
  {
   "cell_type": "code",
   "execution_count": 15,
   "id": "45c70533",
   "metadata": {},
   "outputs": [
    {
     "data": {
      "text/plain": [
       "4"
      ]
     },
     "execution_count": 15,
     "metadata": {},
     "output_type": "execute_result"
    }
   ],
   "source": [
    "def number_appearing_once(nums):\n",
    "    ans = 0\n",
    "    for num in nums:\n",
    "        ans ^= num\n",
    "    return ans\n",
    "\n",
    "nums = [4, 1, 2, 1, 2]\n",
    "number_appearing_once(nums)"
   ]
  },
  {
   "cell_type": "markdown",
   "id": "ebbf7476",
   "metadata": {},
   "source": [
    "### Longest Subarray with given sum (Positives)\n",
    "\n",
    "Given an array and a sum k, we need to print the length of the longest subarray that sums to k."
   ]
  },
  {
   "cell_type": "code",
   "execution_count": null,
   "id": "f718c315",
   "metadata": {},
   "outputs": [
    {
     "data": {
      "text/plain": [
       "3"
      ]
     },
     "execution_count": 17,
     "metadata": {},
     "output_type": "execute_result"
    }
   ],
   "source": [
    "def longest_subarray(nums, k):\n",
    "    left = right = 0\n",
    "    total = 0\n",
    "    length = 0\n",
    "\n",
    "    while right < len(nums):\n",
    "        total += nums[right]\n",
    "\n",
    "        while left <= right and total > k:\n",
    "            total -= nums[left]\n",
    "            left += 1\n",
    "\n",
    "        if total == k:\n",
    "            length = max(length, right - left + 1)\n",
    "\n",
    "        right += 1\n",
    "\n",
    "    return length\n",
    "\n",
    "nums = [2, 3, 5, 1, 9]\n",
    "k = 10\n",
    "longest_subarray(nums, k)"
   ]
  },
  {
   "cell_type": "markdown",
   "id": "3525fcfb",
   "metadata": {},
   "source": [
    "### Longest Subarray with given sum (Positives and Negatives)\n",
    "\n",
    "Given an array and a sum k, we need to print the length of the longest subarray that sums to k."
   ]
  },
  {
   "cell_type": "code",
   "execution_count": 18,
   "id": "a1556f19",
   "metadata": {},
   "outputs": [
    {
     "data": {
      "text/plain": [
       "4"
      ]
     },
     "execution_count": 18,
     "metadata": {},
     "output_type": "execute_result"
    }
   ],
   "source": [
    "def longest_subarray(nums, k):\n",
    "    total = 0\n",
    "    length = 0\n",
    "    sum_indices = {0: -1}\n",
    "\n",
    "    for i, num in enumerate(nums):\n",
    "        total += num\n",
    "\n",
    "        diff = total - k\n",
    "        if diff in sum_indices:\n",
    "            length = max(length, i - sum_indices[diff])\n",
    "\n",
    "        if total not in sum_indices:\n",
    "            sum_indices[total] = i\n",
    "\n",
    "    return length\n",
    "\n",
    "nums = [1, -1, 5, -2, 3]\n",
    "k = 3\n",
    "longest_subarray(nums, k)"
   ]
  }
 ],
 "metadata": {
  "kernelspec": {
   "display_name": "Python 3",
   "language": "python",
   "name": "python3"
  },
  "language_info": {
   "codemirror_mode": {
    "name": "ipython",
    "version": 3
   },
   "file_extension": ".py",
   "mimetype": "text/x-python",
   "name": "python",
   "nbconvert_exporter": "python",
   "pygments_lexer": "ipython3",
   "version": "3.13.2"
  }
 },
 "nbformat": 4,
 "nbformat_minor": 5
}
