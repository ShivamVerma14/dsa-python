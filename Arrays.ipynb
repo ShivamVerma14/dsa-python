{
 "cells": [
  {
   "cell_type": "markdown",
   "id": "f5c54ce9",
   "metadata": {},
   "source": [
    "# Arrays\n",
    "\n",
    "This notebook contains the problems related to Arrays comprising of easy, medium and hard level questions."
   ]
  },
  {
   "cell_type": "markdown",
   "id": "8901ccc0",
   "metadata": {},
   "source": [
    "## Easy Questions"
   ]
  },
  {
   "cell_type": "markdown",
   "id": "a51e7feb",
   "metadata": {},
   "source": [
    "### Largest Element in an Array\n",
    "\n",
    "Given an array, we have to find the largest element in the array."
   ]
  },
  {
   "cell_type": "code",
   "execution_count": 1,
   "id": "b48eb5ec",
   "metadata": {},
   "outputs": [
    {
     "data": {
      "text/plain": [
       "10"
      ]
     },
     "execution_count": 1,
     "metadata": {},
     "output_type": "execute_result"
    }
   ],
   "source": [
    "def largest(nums):\n",
    "    return max(nums)\n",
    "\n",
    "nums = [8, 10, 5, 7, 9]\n",
    "largest(nums)"
   ]
  },
  {
   "cell_type": "code",
   "execution_count": 2,
   "id": "22985d1a",
   "metadata": {},
   "outputs": [
    {
     "data": {
      "text/plain": [
       "10"
      ]
     },
     "execution_count": 2,
     "metadata": {},
     "output_type": "execute_result"
    }
   ],
   "source": [
    "def largest(nums):\n",
    "    max_element = float('-inf')\n",
    "    for num in nums:\n",
    "        if max_element < num:\n",
    "            max_element = num\n",
    "    return max_element\n",
    "\n",
    "nums = [8, 10, 5, 7, 9]\n",
    "largest(nums)"
   ]
  },
  {
   "cell_type": "markdown",
   "id": "e37afc38",
   "metadata": {},
   "source": [
    "### Second Largest Element\n",
    "\n",
    "Given an array, find the second smallest and second largest element in the array. Print ‘-1’ in the event that either of them doesn’t exist."
   ]
  },
  {
   "cell_type": "code",
   "execution_count": 3,
   "id": "674776e6",
   "metadata": {},
   "outputs": [
    {
     "data": {
      "text/plain": [
       "9"
      ]
     },
     "execution_count": 3,
     "metadata": {},
     "output_type": "execute_result"
    }
   ],
   "source": [
    "def second_largest(nums):\n",
    "    if len(nums) < 2:\n",
    "        return -1\n",
    "    \n",
    "    largest = float('-inf')\n",
    "    second_largest = float('-inf')\n",
    "\n",
    "    for num in nums:\n",
    "        if num > largest:\n",
    "            second_largest = largest\n",
    "            largest = num\n",
    "        elif num > second_largest:\n",
    "            second_largest = num\n",
    "\n",
    "    return second_largest\n",
    "\n",
    "nums = [8, 10, 5, 7, 9]\n",
    "second_largest(nums)"
   ]
  },
  {
   "cell_type": "markdown",
   "id": "9c1ce1b3",
   "metadata": {},
   "source": [
    "### Is Array Sorted\n",
    "\n",
    "Given an array of size n, write a program to check if the given array is sorted in (ascending / Increasing / Non-decreasing) order or not. If the array is sorted then return True, Else return False."
   ]
  },
  {
   "cell_type": "code",
   "execution_count": 4,
   "id": "413f9c60",
   "metadata": {},
   "outputs": [
    {
     "data": {
      "text/plain": [
       "True"
      ]
     },
     "execution_count": 4,
     "metadata": {},
     "output_type": "execute_result"
    }
   ],
   "source": [
    "def check_sorted(nums):\n",
    "    for i in range(1, len(nums)):\n",
    "        if nums[i] < nums[i - 1]:\n",
    "            return False\n",
    "    return True\n",
    "\n",
    "nums = [1, 2, 3, 4, 5]\n",
    "check_sorted(nums)"
   ]
  },
  {
   "cell_type": "markdown",
   "id": "95c5ca57",
   "metadata": {},
   "source": [
    "### Remove Duplicates from Sorted Array\n",
    "\n",
    "Given an integer array sorted in non-decreasing order, remove the duplicates in place such that each unique element appears only once. The relative order of the elements should be kept the same.\n",
    "\n",
    "If there are k elements after removing the duplicates, then the first k elements of the array should hold the final result. It does not matter what you leave beyond the first k elements.\n",
    "\n",
    "Note: Return k after placing the final result in the first k slots of the array."
   ]
  },
  {
   "cell_type": "code",
   "execution_count": 5,
   "id": "93514312",
   "metadata": {},
   "outputs": [
    {
     "data": {
      "text/plain": [
       "[1, 2, 3, 4]"
      ]
     },
     "execution_count": 5,
     "metadata": {},
     "output_type": "execute_result"
    }
   ],
   "source": [
    "def remove_duplicates(nums):\n",
    "    i = 0\n",
    "    for j in range(len(nums)):\n",
    "        if nums[i] != nums[j]:\n",
    "            i += 1\n",
    "            nums[i] = nums[j]\n",
    "    return i + 1\n",
    "\n",
    "nums = [1, 1, 1, 2, 2, 3, 3, 3, 4]\n",
    "k = remove_duplicates(nums)\n",
    "nums[:k]"
   ]
  },
  {
   "cell_type": "markdown",
   "id": "207706c8",
   "metadata": {},
   "source": [
    "### Left Rotate by K places\n",
    "\n",
    "Given an array of integers, rotating array of elements by k elements either left or right."
   ]
  },
  {
   "cell_type": "code",
   "execution_count": 7,
   "id": "037a5a54",
   "metadata": {},
   "outputs": [
    {
     "data": {
      "text/plain": [
       "[5, 6, 7, 1, 2, 3, 4]"
      ]
     },
     "execution_count": 7,
     "metadata": {},
     "output_type": "execute_result"
    }
   ],
   "source": [
    "def left_rotate(nums, k):\n",
    "    nums.reverse()\n",
    "    nums[:k] = reversed(nums[:k])\n",
    "    nums[k:] = reversed(nums[k:])\n",
    "\n",
    "nums = [1, 2, 3, 4, 5, 6, 7]\n",
    "left_rotate(nums, 3)\n",
    "nums"
   ]
  },
  {
   "cell_type": "markdown",
   "id": "6914a441",
   "metadata": {},
   "source": [
    "### Move zeros to end\n",
    "\n",
    "You are given an array of integers, your task is to move all the zeros in the array to the end of the array and move non-negative integers to the front by maintaining their order."
   ]
  },
  {
   "cell_type": "code",
   "execution_count": 9,
   "id": "79376dd6",
   "metadata": {},
   "outputs": [
    {
     "data": {
      "text/plain": [
       "[1, 2, 3, 4, 1, 0, 0, 0]"
      ]
     },
     "execution_count": 9,
     "metadata": {},
     "output_type": "execute_result"
    }
   ],
   "source": [
    "def move_zeros(nums):\n",
    "    i = 0\n",
    "\n",
    "    for j in range(len(nums)):\n",
    "        if nums[j] != 0:\n",
    "            nums[i] = nums[j]\n",
    "            i += 1\n",
    "\n",
    "    for j in range(i, len(nums)):\n",
    "        nums[j] = 0\n",
    "\n",
    "nums = [1, 0, 2, 3, 0, 4, 0, 1]\n",
    "move_zeros(nums)\n",
    "nums"
   ]
  },
  {
   "cell_type": "markdown",
   "id": "11f76cc2",
   "metadata": {},
   "source": [
    "### Linear Search\n",
    "\n",
    "Given an array, and an element num the task is to find if num is present in the given array or not. If present print the index of the element or print -1."
   ]
  },
  {
   "cell_type": "code",
   "execution_count": 10,
   "id": "d74a9716",
   "metadata": {},
   "outputs": [
    {
     "data": {
      "text/plain": [
       "2"
      ]
     },
     "execution_count": 10,
     "metadata": {},
     "output_type": "execute_result"
    }
   ],
   "source": [
    "def linear_search(nums, key):\n",
    "    for i, num in enumerate(nums):\n",
    "        if num == key:\n",
    "            return i\n",
    "    return -1\n",
    "\n",
    "nums = [1, 2, 3, 4, 5]\n",
    "linear_search(nums, 3)"
   ]
  },
  {
   "cell_type": "markdown",
   "id": "3ef7a916",
   "metadata": {},
   "source": [
    "### Union of two Sorted Arrays\n",
    "\n",
    "Given two sorted arrays, arr1 and arr2 of size n and m. Find the union of two sorted arrays.\n",
    "\n",
    "The union of two arrays can be defined as the common and distinct elements in the two arrays.\n",
    "\n",
    "NOTE: Elements in the union should be in ascending order."
   ]
  },
  {
   "cell_type": "code",
   "execution_count": 12,
   "id": "dabd86de",
   "metadata": {},
   "outputs": [
    {
     "data": {
      "text/plain": [
       "[1, 2, 3, 4, 5, 6]"
      ]
     },
     "execution_count": 12,
     "metadata": {},
     "output_type": "execute_result"
    }
   ],
   "source": [
    "def union(arr1, arr2):\n",
    "    ans = []\n",
    "    i = j = 0\n",
    "\n",
    "    while i < len(arr1) and j < len(arr2):\n",
    "        if arr1[i] <= arr2[j]:\n",
    "            if len(ans) == 0 or ans[-1] != arr1[i]:\n",
    "                ans.append(arr1[i])\n",
    "            i += 1\n",
    "        else:\n",
    "            if len(ans) == 0 or ans[-1] != arr2[j]:\n",
    "                ans.append(arr2[j])\n",
    "            j += 1\n",
    "\n",
    "    while i < len(arr1):\n",
    "        if len(ans) == 0 or ans[-1] != arr1[i]:\n",
    "            ans.append(arr1[i])\n",
    "        i += 1\n",
    "\n",
    "    while j < len(arr2):\n",
    "        if len(ans) == 0 or ans[-1] != arr2[j]:\n",
    "            ans.append(arr2[j])\n",
    "        j += 1\n",
    "\n",
    "    return ans\n",
    "\n",
    "arr1 = [1, 2, 3, 4, 5]\n",
    "arr2 = [2, 3, 4, 4, 6]\n",
    "union(arr1, arr2)"
   ]
  },
  {
   "cell_type": "markdown",
   "id": "cfd46101",
   "metadata": {},
   "source": [
    "### Missing Number in an Array\n",
    "\n",
    "Given an integer N and an array of size N-1 containing N-1 numbers between 1 to N. Find the number(between 1 to N), that is not present in the given array."
   ]
  },
  {
   "cell_type": "code",
   "execution_count": 13,
   "id": "899116b5",
   "metadata": {},
   "outputs": [
    {
     "data": {
      "text/plain": [
       "3"
      ]
     },
     "execution_count": 13,
     "metadata": {},
     "output_type": "execute_result"
    }
   ],
   "source": [
    "def missing_number(nums):\n",
    "    n = len(nums) + 1\n",
    "    ans = 0\n",
    "\n",
    "    for i in range(1, n + 1):\n",
    "        ans ^= i\n",
    "\n",
    "    for num in nums:\n",
    "        ans ^= num\n",
    "\n",
    "    return ans\n",
    "\n",
    "nums = [1, 2, 4, 5]\n",
    "missing_number(nums)"
   ]
  },
  {
   "cell_type": "markdown",
   "id": "cacb9faf",
   "metadata": {},
   "source": [
    "### Maximum Consecutive Ones\n",
    "\n",
    "Given an array that contains only 1 and 0, return the count of maximum consecutive ones in the array."
   ]
  },
  {
   "cell_type": "code",
   "execution_count": 14,
   "id": "01cb8be3",
   "metadata": {},
   "outputs": [
    {
     "data": {
      "text/plain": [
       "4"
      ]
     },
     "execution_count": 14,
     "metadata": {},
     "output_type": "execute_result"
    }
   ],
   "source": [
    "def max_consecutive_ones(nums):\n",
    "    max_count = 0\n",
    "    count = 0\n",
    "\n",
    "    for num in nums:\n",
    "        if num == 1:\n",
    "            count += 1\n",
    "            max_count = max(count, max_count)\n",
    "        else:\n",
    "            count = 0\n",
    "\n",
    "    return max_count\n",
    "\n",
    "nums = [1, 1, 0, 0, 1, 1, 1, 1]\n",
    "max_consecutive_ones(nums)"
   ]
  },
  {
   "cell_type": "markdown",
   "id": "30add9e1",
   "metadata": {},
   "source": [
    "### Number appearing once\n",
    "\n",
    "Given a non-empty array of integers arr, every element appears twice except for one. Find that single one."
   ]
  },
  {
   "cell_type": "code",
   "execution_count": 15,
   "id": "45c70533",
   "metadata": {},
   "outputs": [
    {
     "data": {
      "text/plain": [
       "4"
      ]
     },
     "execution_count": 15,
     "metadata": {},
     "output_type": "execute_result"
    }
   ],
   "source": [
    "def number_appearing_once(nums):\n",
    "    ans = 0\n",
    "    for num in nums:\n",
    "        ans ^= num\n",
    "    return ans\n",
    "\n",
    "nums = [4, 1, 2, 1, 2]\n",
    "number_appearing_once(nums)"
   ]
  },
  {
   "cell_type": "markdown",
   "id": "ebbf7476",
   "metadata": {},
   "source": [
    "### Longest Subarray with given sum (Positives)\n",
    "\n",
    "Given an array and a sum k, we need to print the length of the longest subarray that sums to k."
   ]
  },
  {
   "cell_type": "code",
   "execution_count": null,
   "id": "f718c315",
   "metadata": {},
   "outputs": [
    {
     "data": {
      "text/plain": [
       "3"
      ]
     },
     "execution_count": 17,
     "metadata": {},
     "output_type": "execute_result"
    }
   ],
   "source": [
    "def longest_subarray(nums, k):\n",
    "    left = right = 0\n",
    "    total = 0\n",
    "    length = 0\n",
    "\n",
    "    while right < len(nums):\n",
    "        total += nums[right]\n",
    "\n",
    "        while left <= right and total > k:\n",
    "            total -= nums[left]\n",
    "            left += 1\n",
    "\n",
    "        if total == k:\n",
    "            length = max(length, right - left + 1)\n",
    "\n",
    "        right += 1\n",
    "\n",
    "    return length\n",
    "\n",
    "nums = [2, 3, 5, 1, 9]\n",
    "k = 10\n",
    "longest_subarray(nums, k)"
   ]
  },
  {
   "cell_type": "markdown",
   "id": "3525fcfb",
   "metadata": {},
   "source": [
    "### Longest Subarray with given sum (Positives and Negatives)\n",
    "\n",
    "Given an array and a sum k, we need to print the length of the longest subarray that sums to k."
   ]
  },
  {
   "cell_type": "code",
   "execution_count": 18,
   "id": "a1556f19",
   "metadata": {},
   "outputs": [
    {
     "data": {
      "text/plain": [
       "4"
      ]
     },
     "execution_count": 18,
     "metadata": {},
     "output_type": "execute_result"
    }
   ],
   "source": [
    "def longest_subarray(nums, k):\n",
    "    total = 0\n",
    "    length = 0\n",
    "    sum_indices = {0: -1}\n",
    "\n",
    "    for i, num in enumerate(nums):\n",
    "        total += num\n",
    "\n",
    "        diff = total - k\n",
    "        if diff in sum_indices:\n",
    "            length = max(length, i - sum_indices[diff])\n",
    "\n",
    "        if total not in sum_indices:\n",
    "            sum_indices[total] = i\n",
    "\n",
    "    return length\n",
    "\n",
    "nums = [1, -1, 5, -2, 3]\n",
    "k = 3\n",
    "longest_subarray(nums, k)"
   ]
  },
  {
   "cell_type": "markdown",
   "id": "d1db3893",
   "metadata": {},
   "source": [
    "## Medium Questions"
   ]
  },
  {
   "cell_type": "markdown",
   "id": "0422e1fc",
   "metadata": {},
   "source": [
    "### Two Sum Problem\n",
    "\n",
    "Given an array of integers arr[] and an integer target, return indices of the two numbers such that their sum is equal to the target. Otherwise, we will return {-1, -1}."
   ]
  },
  {
   "cell_type": "code",
   "execution_count": 19,
   "id": "16ccae57",
   "metadata": {},
   "outputs": [
    {
     "data": {
      "text/plain": [
       "(1, 3)"
      ]
     },
     "execution_count": 19,
     "metadata": {},
     "output_type": "execute_result"
    }
   ],
   "source": [
    "def two_sum(nums, target):\n",
    "    num_indices = {}\n",
    "    for i, num in enumerate(nums):\n",
    "        diff = target - num\n",
    "        if diff in num_indices:\n",
    "            return num_indices[diff], i\n",
    "        num_indices[num] = i\n",
    "    return -1, -1\n",
    "\n",
    "nums = [2, 6, 5, 8, 11]\n",
    "target = 14\n",
    "two_sum(nums, target)"
   ]
  },
  {
   "cell_type": "markdown",
   "id": "961104f6",
   "metadata": {},
   "source": [
    "### Sort 0s, 1s and 2s\n",
    "\n",
    "Given an array consisting of only 0s, 1s, and 2s. Write a program to in-place sort the array without using inbuilt sort functions. ( Expected: Single pass-O(N) and constant space)"
   ]
  },
  {
   "cell_type": "code",
   "execution_count": null,
   "id": "18ef690c",
   "metadata": {},
   "outputs": [
    {
     "data": {
      "text/plain": [
       "[0, 0, 1, 1, 2, 2]"
      ]
     },
     "execution_count": 20,
     "metadata": {},
     "output_type": "execute_result"
    }
   ],
   "source": [
    "def sort(nums):\n",
    "    beg = mid = 0\n",
    "    end = len(nums) - 1\n",
    "\n",
    "    while mid <= end:\n",
    "        if nums[mid] == 2:\n",
    "            nums[end], nums[mid] = nums[mid], nums[end]\n",
    "            end -= 1\n",
    "        elif nums[mid] == 0:\n",
    "            nums[beg], nums[mid] = nums[mid], nums[beg]\n",
    "            beg += 1\n",
    "            mid += 1\n",
    "        else:\n",
    "            mid += 1\n",
    "\n",
    "nums = [2, 0, 2, 1, 1, 0]\n",
    "sort(nums)\n",
    "nums"
   ]
  },
  {
   "cell_type": "markdown",
   "id": "add24297",
   "metadata": {},
   "source": [
    "### Leaders in an array\n",
    "\n",
    "Given an array, print all the elements which are leaders. A Leader is an element that is greater than all of the elements on its right side in the array."
   ]
  },
  {
   "cell_type": "code",
   "execution_count": 22,
   "id": "4cdacebf",
   "metadata": {},
   "outputs": [
    {
     "data": {
      "text/plain": [
       "[22, 12, 6]"
      ]
     },
     "execution_count": 22,
     "metadata": {},
     "output_type": "execute_result"
    }
   ],
   "source": [
    "def find_leaders(nums):\n",
    "    leaders = []\n",
    "    max_element = float('-inf')\n",
    "\n",
    "    for num in reversed(nums):\n",
    "        if num > max_element:\n",
    "            max_element = num\n",
    "            leaders.append(num)\n",
    "\n",
    "    return list(reversed(leaders))\n",
    "\n",
    "nums = [10, 22, 12, 3, 0, 6]\n",
    "find_leaders(nums)"
   ]
  },
  {
   "cell_type": "markdown",
   "id": "e0dc1418",
   "metadata": {},
   "source": [
    "### Next Permutations\n",
    "\n",
    " Given an array of integers, rearrange the numbers of the given array into the lexicographically next greater permutation of numbers.\n",
    "\n",
    "If such an arrangement is not possible, it must rearrange to the lowest possible order (i.e., sorted in ascending order)."
   ]
  },
  {
   "cell_type": "code",
   "execution_count": 23,
   "id": "f9c243e5",
   "metadata": {},
   "outputs": [
    {
     "data": {
      "text/plain": [
       "[2, 1, 3]"
      ]
     },
     "execution_count": 23,
     "metadata": {},
     "output_type": "execute_result"
    }
   ],
   "source": [
    "def next_permutation(nums):\n",
    "    n = len(nums)\n",
    "    \n",
    "    index = -1\n",
    "    for i in range(n - 2, -1, -1):\n",
    "        if nums[i] < nums[i + 1]:\n",
    "            index = i\n",
    "            break\n",
    "\n",
    "    if index == -1:\n",
    "        nums.reverse()\n",
    "        return\n",
    "    \n",
    "    for i in range(n - 1, index, -1):\n",
    "        if nums[i] > nums[index]:\n",
    "            nums[i], nums[index] = nums[index], nums[i]\n",
    "            break\n",
    "\n",
    "    nums[index + 1:] = reversed(nums[index + 1:])\n",
    "\n",
    "nums = [1, 3, 2]\n",
    "next_permutation(nums)\n",
    "nums"
   ]
  },
  {
   "cell_type": "markdown",
   "id": "3a07a1f7",
   "metadata": {},
   "source": [
    "### Set Matrix Zero\n",
    "\n",
    "Given a matrix if an element in the matrix is 0 then you will have to set its entire column and row to 0 and then return the matrix."
   ]
  },
  {
   "cell_type": "code",
   "execution_count": 24,
   "id": "50528e6d",
   "metadata": {},
   "outputs": [
    {
     "data": {
      "text/plain": [
       "[[0, 0, 0, 0], [0, 4, 5, 0], [0, 3, 1, 0]]"
      ]
     },
     "execution_count": 24,
     "metadata": {},
     "output_type": "execute_result"
    }
   ],
   "source": [
    "def set_matrix_zero(matrix):\n",
    "    row, col = set(), set()\n",
    "    \n",
    "    for i in range(len(matrix)):\n",
    "        for j in range(len(matrix[i])):\n",
    "            if matrix[i][j] == 0:\n",
    "                row.add(i)\n",
    "                col.add(j)\n",
    "\n",
    "    for i in range(len(matrix)):\n",
    "        for j in range(len(matrix[i])):\n",
    "            if i in row or j in col:\n",
    "                matrix[i][j] = 0\n",
    "\n",
    "matrix = [\n",
    "    [0, 1, 2, 0],\n",
    "    [3, 4, 5, 2],\n",
    "    [1, 3, 1, 5]\n",
    "]\n",
    "set_matrix_zero(matrix)\n",
    "matrix"
   ]
  },
  {
   "cell_type": "markdown",
   "id": "0b1c6bfc",
   "metadata": {},
   "source": [
    "### Rotate Matrix by 90 degrees\n",
    "\n",
    "Given a matrix, your task is to rotate the matrix 90 degrees clockwise."
   ]
  },
  {
   "cell_type": "code",
   "execution_count": 26,
   "id": "74364e72",
   "metadata": {},
   "outputs": [
    {
     "data": {
      "text/plain": [
       "[[7, 4, 1], [8, 5, 2], [9, 6, 3]]"
      ]
     },
     "execution_count": 26,
     "metadata": {},
     "output_type": "execute_result"
    }
   ],
   "source": [
    "def rotate(matrix):\n",
    "    for i in range(len(matrix)):\n",
    "        for j in range(i):\n",
    "            matrix[i][j], matrix[j][i] = matrix[j][i], matrix[i][j]\n",
    "\n",
    "    for row in matrix:\n",
    "        row.reverse()\n",
    "\n",
    "matrix = [[1, 2, 3], [4, 5, 6], [7, 8, 9]]\n",
    "rotate(matrix)\n",
    "matrix"
   ]
  },
  {
   "cell_type": "markdown",
   "id": "26f30f3e",
   "metadata": {},
   "source": [
    "### Spiral Traversal of Matrix\n",
    "\n",
    "Given a Matrix, print the given matrix in spiral order."
   ]
  },
  {
   "cell_type": "code",
   "execution_count": 28,
   "id": "1f9fe61f",
   "metadata": {},
   "outputs": [
    {
     "data": {
      "text/plain": [
       "[1, 2, 3, 4, 8, 12, 16, 15, 14, 13, 9, 5, 6, 7, 11, 10]"
      ]
     },
     "execution_count": 28,
     "metadata": {},
     "output_type": "execute_result"
    }
   ],
   "source": [
    "def spiral_order(matrix):\n",
    "    n, m = len(matrix), len(matrix[0])\n",
    "    spiral = []\n",
    "\n",
    "    left = top = 0\n",
    "    right = m - 1\n",
    "    bottom = n - 1\n",
    "\n",
    "    while top <= bottom and left <= right:\n",
    "        for i in range(left, right + 1):\n",
    "            spiral.append(matrix[top][i])\n",
    "        top += 1\n",
    "\n",
    "        for i in range(top, bottom + 1):\n",
    "            spiral.append(matrix[i][right])\n",
    "        right -= 1\n",
    "\n",
    "        if top <= bottom:\n",
    "            for i in range(right, left - 1, -1):\n",
    "                spiral.append(matrix[bottom][i])\n",
    "            bottom -= 1\n",
    "\n",
    "        if left <= right:\n",
    "            for i in range(bottom, top - 1, -1):\n",
    "                spiral.append(matrix[i][left])\n",
    "            left += 1\n",
    "\n",
    "    return spiral\n",
    "\n",
    "matrix = [\n",
    "    [1, 2, 3, 4],\n",
    "    [5, 6, 7, 8],\n",
    "    [9, 10, 11, 12],\n",
    "    [13, 14, 15, 16]\n",
    "]\n",
    "spiral_order(matrix)"
   ]
  },
  {
   "cell_type": "markdown",
   "id": "09501ce6",
   "metadata": {},
   "source": [
    "### Count Subarrays with given sum\n",
    "\n",
    "Given an array of integers and an integer k, return the total number of subarrays whose sum equals k.\n",
    "\n",
    "A subarray is a contiguous non-empty sequence of elements within an array."
   ]
  },
  {
   "cell_type": "code",
   "execution_count": 1,
   "id": "0637d5e6",
   "metadata": {},
   "outputs": [
    {
     "data": {
      "text/plain": [
       "2"
      ]
     },
     "execution_count": 1,
     "metadata": {},
     "output_type": "execute_result"
    }
   ],
   "source": [
    "from collections import defaultdict\n",
    "\n",
    "def count_subarrays(nums, target):\n",
    "    count = 0\n",
    "    current_sum = 0\n",
    "    prefix_sum_counts = defaultdict(int)\n",
    "    prefix_sum_counts[0] = 1\n",
    "\n",
    "    for num in nums:\n",
    "        current_sum += num\n",
    "        count += prefix_sum_counts[current_sum - target]\n",
    "        prefix_sum_counts[current_sum] += 1\n",
    "\n",
    "    return count\n",
    "\n",
    "nums = [3, 1, 2, 4]\n",
    "target = 6\n",
    "count_subarrays(nums, target)"
   ]
  },
  {
   "cell_type": "markdown",
   "id": "da67655c",
   "metadata": {},
   "source": [
    "### Longest Consecutive Sequence\n",
    "\n",
    "You are given an array of ‘N’ integers. You need to find the length of the longest sequence which contains the consecutive elements."
   ]
  },
  {
   "cell_type": "code",
   "execution_count": 3,
   "id": "d0ce8de5",
   "metadata": {},
   "outputs": [
    {
     "data": {
      "text/plain": [
       "4"
      ]
     },
     "execution_count": 3,
     "metadata": {},
     "output_type": "execute_result"
    }
   ],
   "source": [
    "def longest_consecutive_sequence(nums):\n",
    "    num_set = set(nums)\n",
    "    max_length = 0\n",
    "\n",
    "    for num in num_set:\n",
    "        if num - 1 in num_set:\n",
    "            continue\n",
    "\n",
    "        length = 0\n",
    "        while num in num_set:\n",
    "            length += 1\n",
    "            num += 1\n",
    "\n",
    "        max_length = max(max_length, length)\n",
    "\n",
    "    return max_length\n",
    "\n",
    "nums = [100, 2, 200, 1, 4, 3]\n",
    "longest_consecutive_sequence(nums)"
   ]
  },
  {
   "cell_type": "markdown",
   "id": "6d4d99c2",
   "metadata": {},
   "source": [
    "### Rearrange array elements by sign\n",
    "\n",
    "There’s an array ‘A’ of size ‘N’ with positive and negative elements (not necessarily equal). Without altering the relative order of positive and negative elements, you must return an array of alternately positive and negative values. The leftover elements should be placed at the very end in the same order as in array A.\n",
    "\n",
    "Note: Start the array with positive elements."
   ]
  },
  {
   "cell_type": "code",
   "execution_count": 6,
   "id": "08eab369",
   "metadata": {},
   "outputs": [
    {
     "data": {
      "text/plain": [
       "[1, -4, 2, -5, 3, 4]"
      ]
     },
     "execution_count": 6,
     "metadata": {},
     "output_type": "execute_result"
    }
   ],
   "source": [
    "def rearrange(nums):\n",
    "    pos = [num for num in nums if num >= 0]\n",
    "    neg = [num for num in nums if num < 0]\n",
    "\n",
    "    n = min(len(pos), len(neg))\n",
    "    extra = pos[n:] if len(pos) > len(neg) else neg[n:]\n",
    "\n",
    "    for i in range(n):\n",
    "        nums[2 * i] = pos[i]\n",
    "        nums[2 * i + 1] = neg[i]\n",
    "\n",
    "    for i in range(2 * n, len(nums)):\n",
    "        nums[i] = extra[i - 2 * n]\n",
    "\n",
    "nums = [1, 2, -4, -5, 3, 4]\n",
    "rearrange(nums)\n",
    "nums"
   ]
  },
  {
   "cell_type": "markdown",
   "id": "1347983a",
   "metadata": {},
   "source": [
    "### Stock Buy and Sell\n",
    "\n",
    "You are given an array of prices where prices[i] is the price of a given stock on an ith day.\n",
    "\n",
    "You want to maximize your profit by choosing a single day to buy one stock and choosing a different day in the future to sell that stock. Return the maximum profit you can achieve from this transaction. If you cannot achieve any profit, return 0."
   ]
  },
  {
   "cell_type": "code",
   "execution_count": 7,
   "id": "15ed850f",
   "metadata": {},
   "outputs": [
    {
     "data": {
      "text/plain": [
       "5"
      ]
     },
     "execution_count": 7,
     "metadata": {},
     "output_type": "execute_result"
    }
   ],
   "source": [
    "def find_profit(prices):\n",
    "    max_profit = 0\n",
    "    min_price = float('inf')\n",
    "\n",
    "    for price in prices:\n",
    "        min_price = min(min_price, price)\n",
    "        max_profit = max(max_profit, price - min_price)\n",
    "\n",
    "    return max_profit\n",
    "\n",
    "prices = [7, 1, 5, 3, 6, 4]\n",
    "find_profit(prices)"
   ]
  },
  {
   "cell_type": "markdown",
   "id": "ab7ea24d",
   "metadata": {},
   "source": [
    "### Majority Element\n",
    "\n",
    "Given an array of N integers, write a program to return an element that occurs more than N/2 times in the given array. You may consider that such an element always exists in the array."
   ]
  },
  {
   "cell_type": "code",
   "execution_count": 8,
   "id": "8c0f6747",
   "metadata": {},
   "outputs": [
    {
     "data": {
      "text/plain": [
       "2"
      ]
     },
     "execution_count": 8,
     "metadata": {},
     "output_type": "execute_result"
    }
   ],
   "source": [
    "def majority_element(nums):\n",
    "    element = None\n",
    "    count = 0\n",
    "\n",
    "    for num in nums:\n",
    "        if count == 0:\n",
    "            element = num\n",
    "            count = 1\n",
    "        elif element == num:\n",
    "            count += 1\n",
    "        else:\n",
    "            count -= 1\n",
    "\n",
    "    return element\n",
    "\n",
    "nums = [2, 2, 1, 1, 1, 2, 2]\n",
    "majority_element(nums)"
   ]
  },
  {
   "cell_type": "markdown",
   "id": "5960fdd3",
   "metadata": {},
   "source": [
    "### Maximum Subarray Sum\n",
    "\n",
    "Given an integer array arr, find the contiguous subarray (containing at least one number) which\n",
    "has the largest sum and returns its sum and prints the subarray."
   ]
  },
  {
   "cell_type": "code",
   "execution_count": 9,
   "id": "3b6a8e22",
   "metadata": {},
   "outputs": [
    {
     "data": {
      "text/plain": [
       "6"
      ]
     },
     "execution_count": 9,
     "metadata": {},
     "output_type": "execute_result"
    }
   ],
   "source": [
    "def maximum_subarray_sum(nums):\n",
    "    max_sum = float('-inf')\n",
    "    total = 0\n",
    "\n",
    "    for num in nums:\n",
    "        total += num\n",
    "        max_sum = max(max_sum, total)\n",
    "        if total < 0:\n",
    "            total = 0\n",
    "\n",
    "    return max_sum\n",
    "\n",
    "nums = [-2, 1, -3, 4, -1, 2, 1, -5, 4]\n",
    "maximum_subarray_sum(nums)"
   ]
  }
 ],
 "metadata": {
  "kernelspec": {
   "display_name": "Python 3",
   "language": "python",
   "name": "python3"
  },
  "language_info": {
   "codemirror_mode": {
    "name": "ipython",
    "version": 3
   },
   "file_extension": ".py",
   "mimetype": "text/x-python",
   "name": "python",
   "nbconvert_exporter": "python",
   "pygments_lexer": "ipython3",
   "version": "3.13.2"
  }
 },
 "nbformat": 4,
 "nbformat_minor": 5
}
