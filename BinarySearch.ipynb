{
 "cells": [
  {
   "cell_type": "markdown",
   "id": "5e3ceeb5",
   "metadata": {},
   "source": [
    "# Binary Search\n",
    "\n",
    "This notebook comprises of the problems related to the topic Binary Search."
   ]
  },
  {
   "cell_type": "markdown",
   "id": "a6330599",
   "metadata": {},
   "source": [
    "### Search in an array\n",
    "\n",
    "You are given a sorted array of integers and a target, your task is to search for the target in the given array. Assume the given array does not contain any duplicate numbers."
   ]
  },
  {
   "cell_type": "code",
   "execution_count": 1,
   "id": "b8798ded",
   "metadata": {},
   "outputs": [
    {
     "data": {
      "text/plain": [
       "2"
      ]
     },
     "execution_count": 1,
     "metadata": {},
     "output_type": "execute_result"
    }
   ],
   "source": [
    "def search(nums, target):\n",
    "    beg = 0\n",
    "    end = len(nums) - 1\n",
    "\n",
    "    while beg <= end:\n",
    "        mid = (beg + end) // 2\n",
    "\n",
    "        if nums[mid] == target:\n",
    "            return mid\n",
    "        elif nums[mid] < target:\n",
    "            beg = mid + 1\n",
    "        else:\n",
    "            end = mid - 1\n",
    "\n",
    "    return -1\n",
    "\n",
    "nums = [3, 4, 6, 7, 9, 12, 16, 17]\n",
    "target = 6\n",
    "search(nums, target)"
   ]
  },
  {
   "cell_type": "markdown",
   "id": "267d04b4",
   "metadata": {},
   "source": [
    "### Lower Bound\n",
    "\n",
    "Given a sorted array of N integers and an integer x, write a program to find the lower bound of x.\n",
    "\n",
    "The lower bound algorithm finds the first or the smallest index in a sorted array where the value at that index is greater than or equal to a given key i.e. x."
   ]
  },
  {
   "cell_type": "code",
   "execution_count": 4,
   "id": "35622ee7",
   "metadata": {},
   "outputs": [
    {
     "data": {
      "text/plain": [
       "1"
      ]
     },
     "execution_count": 4,
     "metadata": {},
     "output_type": "execute_result"
    }
   ],
   "source": [
    "def lower_bound(nums, x):\n",
    "    beg = 0\n",
    "    end = len(nums) - 1\n",
    "    ans = -1\n",
    "\n",
    "    while beg <= end:\n",
    "        mid = (beg + end) // 2\n",
    "\n",
    "        if nums[mid] >= x:\n",
    "            ans = mid\n",
    "            end = mid - 1\n",
    "        elif nums[mid] < x:\n",
    "            beg = mid + 1\n",
    "\n",
    "    return ans\n",
    "\n",
    "nums = [1, 2, 2, 3]\n",
    "x = 2\n",
    "lower_bound(nums, x)"
   ]
  },
  {
   "cell_type": "markdown",
   "id": "33d4ef7c",
   "metadata": {},
   "source": [
    "### Upper Bound\n",
    "\n",
    "Given a sorted array of N integers and an integer x, write a program to find the upper bound of x.\n",
    "\n",
    "The upper bound algorithm finds the first or the smallest index in a sorted array where the value at that index is greater than the given key i.e. x."
   ]
  },
  {
   "cell_type": "code",
   "execution_count": 6,
   "id": "d2805e3a",
   "metadata": {},
   "outputs": [
    {
     "data": {
      "text/plain": [
       "4"
      ]
     },
     "execution_count": 6,
     "metadata": {},
     "output_type": "execute_result"
    }
   ],
   "source": [
    "def upper_bound(nums, x):\n",
    "    beg = 0\n",
    "    end = len(nums) - 1\n",
    "    ans = -1\n",
    "\n",
    "    while beg <= end:\n",
    "        mid = (beg + end) // 2\n",
    "\n",
    "        if nums[mid] > x:\n",
    "            ans = mid\n",
    "            end = mid - 1\n",
    "        else:\n",
    "            beg = mid + 1\n",
    "\n",
    "    return ans\n",
    "\n",
    "nums = [3, 5, 8, 9, 15, 19]\n",
    "x = 9\n",
    "upper_bound(nums, x)"
   ]
  },
  {
   "cell_type": "markdown",
   "id": "0eb6eb91",
   "metadata": {},
   "source": [
    "### Search Insert Position\n",
    "\n",
    "You are given a sorted array arr of distinct values and a target value x. You need to search for the index of the target value in the array.\n",
    "\n",
    "If the value is present in the array, then return its index. Otherwise, determine the index where it would be inserted in the array while maintaining the sorted order."
   ]
  },
  {
   "cell_type": "code",
   "execution_count": 7,
   "id": "c07399b4",
   "metadata": {},
   "outputs": [
    {
     "data": {
      "text/plain": [
       "3"
      ]
     },
     "execution_count": 7,
     "metadata": {},
     "output_type": "execute_result"
    }
   ],
   "source": [
    "def search_insert_position(nums, x):\n",
    "    beg = 0\n",
    "    end = len(nums) - 1\n",
    "\n",
    "    while beg <= end:\n",
    "        mid = (beg + end) // 2\n",
    "\n",
    "        if nums[mid] == x:\n",
    "            return mid\n",
    "        elif nums[mid] < x:\n",
    "            beg = mid + 1\n",
    "        else:\n",
    "            ans = mid\n",
    "            end = mid - 1\n",
    "\n",
    "    return ans\n",
    "\n",
    "nums = [1, 2, 4, 7]\n",
    "x = 6\n",
    "search_insert_position(nums, x)"
   ]
  },
  {
   "cell_type": "markdown",
   "id": "d9800f97",
   "metadata": {},
   "source": [
    "### Floor and Ceil in Sorted Array\n",
    "\n",
    "You're given an sorted array arr of n integers and an integer x. Find the floor and ceiling of x in arr[0..n-1].\n",
    "\n",
    "The floor of x is the largest element in the array which is smaller than or equal to x.\n",
    "\n",
    "The ceiling of x is the smallest element in the array greater than or equal to x."
   ]
  },
  {
   "cell_type": "code",
   "execution_count": 9,
   "id": "4d5ae223",
   "metadata": {},
   "outputs": [
    {
     "data": {
      "text/plain": [
       "(4, 7)"
      ]
     },
     "execution_count": 9,
     "metadata": {},
     "output_type": "execute_result"
    }
   ],
   "source": [
    "def floor_and_ceil(nums, x):\n",
    "    def floor():\n",
    "        beg, end = 0, len(nums) - 1\n",
    "        while beg <= end:\n",
    "            mid = (beg + end) // 2\n",
    "            if nums[mid] <= x:\n",
    "                ans = mid\n",
    "                beg = mid + 1\n",
    "            else:\n",
    "                end = mid - 1\n",
    "        return nums[ans]\n",
    "    \n",
    "    def ceil():\n",
    "        beg, end = 0, len(nums) - 1\n",
    "        while beg <= end:\n",
    "            mid = (beg + end) // 2\n",
    "            if nums[mid] >= x:\n",
    "                ans = mid\n",
    "                end = mid - 1\n",
    "            else:\n",
    "                beg = mid + 1\n",
    "        return nums[ans]\n",
    "    \n",
    "    return floor(), ceil()\n",
    "\n",
    "nums = [3, 4, 4, 7, 8, 10]\n",
    "x = 5\n",
    "floor_and_ceil(nums, x)"
   ]
  },
  {
   "cell_type": "markdown",
   "id": "ac8e321e",
   "metadata": {},
   "source": [
    "### First and Last Occurrences\n",
    "\n",
    "Given a sorted array of N integers, write a program to find the index of the first and the last occurrence of the target key. If the target is not found then return -1."
   ]
  },
  {
   "cell_type": "code",
   "execution_count": 10,
   "id": "ce45cb40",
   "metadata": {},
   "outputs": [
    {
     "data": {
      "text/plain": [
       "(2, 4)"
      ]
     },
     "execution_count": 10,
     "metadata": {},
     "output_type": "execute_result"
    }
   ],
   "source": [
    "def first_and_last_occurrences(nums, x):\n",
    "    def first_occurrence():\n",
    "        beg, end = 0, len(nums) - 1\n",
    "        while beg <= end:\n",
    "            mid = (beg + end) // 2\n",
    "            if nums[mid] >= x:\n",
    "                ans = mid\n",
    "                end = mid - 1\n",
    "            else:\n",
    "                beg = mid + 1\n",
    "        return ans\n",
    "    \n",
    "    def last_occurrence():\n",
    "        beg, end = 0, len(nums) - 1\n",
    "        while beg <= end:\n",
    "            mid = (beg + end) // 2\n",
    "            if nums[mid] <= x:\n",
    "                ans = mid\n",
    "                beg = mid + 1\n",
    "            else:\n",
    "                end = mid - 1\n",
    "        return ans\n",
    "    \n",
    "    return first_occurrence(), last_occurrence()\n",
    "\n",
    "nums = [3, 4, 13, 13, 13, 20, 40]\n",
    "x = 13\n",
    "first_and_last_occurrences(nums, x)"
   ]
  },
  {
   "cell_type": "markdown",
   "id": "6e93d67c",
   "metadata": {},
   "source": [
    "### Search in Rotated Sorted Array\n",
    "\n",
    "Given an integer array arr of size N, sorted in ascending order (with distinct values) and a target value k. Now the array is rotated at some pivot point unknown to you. Find the index at which k is present and if k is not present return -1."
   ]
  },
  {
   "cell_type": "code",
   "execution_count": 11,
   "id": "0a0338ed",
   "metadata": {},
   "outputs": [
    {
     "data": {
      "text/plain": [
       "2"
      ]
     },
     "execution_count": 11,
     "metadata": {},
     "output_type": "execute_result"
    }
   ],
   "source": [
    "def search_in_rotated_sorted_array(nums, target):\n",
    "    def pivot_index():\n",
    "        beg, end = 0, len(nums) - 1\n",
    "        while beg <= end:\n",
    "            mid = (beg + end) // 2\n",
    "            if nums[mid] >= nums[0]:\n",
    "                beg = mid + 1\n",
    "            else:\n",
    "                ans = mid\n",
    "                end = mid - 1\n",
    "        return ans\n",
    "    \n",
    "    def search(beg, end):\n",
    "        while beg <= end:\n",
    "            mid = (beg + end) // 2\n",
    "            if nums[mid] == target:\n",
    "                return mid\n",
    "            elif nums[mid] < target:\n",
    "                beg = mid + 1\n",
    "            else:\n",
    "                beg = mid - 1\n",
    "        return -1\n",
    "    \n",
    "    pivot = pivot_index()\n",
    "    if nums[pivot] <= target <= nums[-1]:\n",
    "        return search(pivot, len(nums) - 1)\n",
    "    else:\n",
    "        return search(0, pivot - 1)\n",
    "\n",
    "nums = [7, 8, 9, 1, 2, 3, 4, 5, 6]\n",
    "target = 9\n",
    "search_in_rotated_sorted_array(nums, target)"
   ]
  },
  {
   "cell_type": "markdown",
   "id": "ca2a9029",
   "metadata": {},
   "source": [
    "### Search Single Element in a Sorted Array\n",
    "\n",
    "Given an array of N integers. Every number in the array except one appears twice. Find the single number in the array."
   ]
  },
  {
   "cell_type": "code",
   "execution_count": 12,
   "id": "756fd255",
   "metadata": {},
   "outputs": [
    {
     "data": {
      "text/plain": [
       "4"
      ]
     },
     "execution_count": 12,
     "metadata": {},
     "output_type": "execute_result"
    }
   ],
   "source": [
    "def search_single_element(nums):\n",
    "    n = len(nums)\n",
    "\n",
    "    if n == 1: return nums[0]\n",
    "    if nums[0] != nums[1]: return nums[0]\n",
    "    if nums[n - 1] != nums[n - 2]: return nums[n - 1]\n",
    "\n",
    "    beg, end = 1, n - 2\n",
    "    while beg <= end:\n",
    "        mid = (beg + end) // 2\n",
    "\n",
    "        if nums[mid] != nums[mid - 1] and nums[mid] != nums[mid + 1]:\n",
    "            return nums[mid]\n",
    "        elif (mid % 2 == 0 and nums[mid] == nums[mid + 1]) or (mid % 2 != 0 and nums[mid] == nums[mid - 1]):\n",
    "            beg = mid + 1\n",
    "        else:\n",
    "            end = mid - 1\n",
    "\n",
    "    return -1\n",
    "\n",
    "nums = [1, 1, 2, 2, 3, 3, 4, 5, 5, 6, 6]\n",
    "search_single_element(nums)"
   ]
  },
  {
   "cell_type": "markdown",
   "id": "a586c600",
   "metadata": {},
   "source": [
    "### Peak Index in a Mountain Array\n",
    "\n",
    "You are given an integer mountain array arr of length n where the values increase to a peak element and then decrease.\n",
    "\n",
    "Return the index of the peak element.\n",
    "\n",
    "Your task is to solve it in O(log(n)) time complexity."
   ]
  },
  {
   "cell_type": "code",
   "execution_count": 13,
   "id": "0232536c",
   "metadata": {},
   "outputs": [
    {
     "data": {
      "text/plain": [
       "1"
      ]
     },
     "execution_count": 13,
     "metadata": {},
     "output_type": "execute_result"
    }
   ],
   "source": [
    "def peak_index(nums):\n",
    "    beg = 0\n",
    "    end = len(nums) - 1\n",
    "\n",
    "    while beg <= end:\n",
    "        mid = (beg + end) // 2\n",
    "        if nums[mid] < nums[mid + 1]:\n",
    "            beg = mid + 1\n",
    "        else:\n",
    "            ans = mid\n",
    "            end = mid - 1\n",
    "\n",
    "    return ans\n",
    "\n",
    "nums = [0, 10, 5, 2]\n",
    "peak_index(nums)"
   ]
  }
 ],
 "metadata": {
  "kernelspec": {
   "display_name": "Python 3",
   "language": "python",
   "name": "python3"
  },
  "language_info": {
   "codemirror_mode": {
    "name": "ipython",
    "version": 3
   },
   "file_extension": ".py",
   "mimetype": "text/x-python",
   "name": "python",
   "nbconvert_exporter": "python",
   "pygments_lexer": "ipython3",
   "version": "3.13.2"
  }
 },
 "nbformat": 4,
 "nbformat_minor": 5
}
